{
 "cells": [
  {
   "cell_type": "markdown",
   "metadata": {
    "collapsed": true
   },
   "source": [
    "# Crawler基礎－requests、BeautifulSoup"
   ]
  },
  {
   "cell_type": "markdown",
   "metadata": {},
   "source": [
    "## 目錄\n",
    "- [Requests](#requests)\n",
    "- [BeautifulSoup](#BeautifulSoup)\n",
    "    - [bs物件](#bs物件)\n",
    "    - [find](#find)\n",
    "    - [find_all](#find_all)\n",
    "    - [select](#select)"
   ]
  },
  {
   "cell_type": "code",
   "execution_count": 1,
   "metadata": {
    "collapsed": true
   },
   "outputs": [],
   "source": [
    "# 發送我們網路請求(request)的套件\n",
    "import requests\n",
    "# 解析 HTML 語法的套件\n",
    "from bs4 import BeautifulSoup"
   ]
  },
  {
   "cell_type": "markdown",
   "metadata": {},
   "source": [
    "- 爬第一個網站 http://pala.tw/class-id-example/"
   ]
  },
  {
   "cell_type": "code",
   "execution_count": 2,
   "metadata": {
    "collapsed": true
   },
   "outputs": [],
   "source": [
    "# 先把後面會用到的全域變數放在這裡\n",
    "url = \"http://pala.tw/class-id-example/\"\n",
    "headers = {'user-agent':'Safari'}"
   ]
  },
  {
   "cell_type": "markdown",
   "metadata": {},
   "source": [
    "user-agent是提供給網站了解使用者的基本資訊（電腦系統、使用哪款瀏覽器...等）  \n",
    "部分網站會檢查user-agent字串內容來防止惡意爬蟲  \n",
    "可以從[這裡](https://www.whoishostingthis.com/tools/user-agent/)查詢你電腦、瀏覽器的user-agent字串  \n",
    "或是放入簡單的資訊（有的網站是會檢查user-agent有沒有內容而已 空白的也會給你過XD）"
   ]
  },
  {
   "cell_type": "markdown",
   "metadata": {},
   "source": [
    "## requests"
   ]
  },
  {
   "cell_type": "code",
   "execution_count": 3,
   "metadata": {
    "collapsed": true
   },
   "outputs": [],
   "source": [
    "# 透過 requests 來幫我傳送 ge t請求\n",
    "res = requests.get(url,headers=headers)"
   ]
  },
  {
   "cell_type": "code",
   "execution_count": 4,
   "metadata": {
    "collapsed": true
   },
   "outputs": [],
   "source": [
    "# post也很簡單\n",
    "# res = requests.post(url,headers=headers)"
   ]
  },
  {
   "cell_type": "markdown",
   "metadata": {},
   "source": [
    "執行之後，requests會去目標網站，幫你把原始碼抓回來  \n",
    "res有一些基本的屬性可以使用"
   ]
  },
  {
   "cell_type": "code",
   "execution_count": 5,
   "metadata": {},
   "outputs": [
    {
     "data": {
      "text/plain": [
       "True"
      ]
     },
     "execution_count": 5,
     "metadata": {},
     "output_type": "execute_result"
    }
   ],
   "source": [
    "# 回傳狀況是否正常\n",
    "res.ok"
   ]
  },
  {
   "cell_type": "code",
   "execution_count": 6,
   "metadata": {},
   "outputs": [
    {
     "data": {
      "text/plain": [
       "200"
      ]
     },
     "execution_count": 6,
     "metadata": {},
     "output_type": "execute_result"
    }
   ],
   "source": [
    "# 回傳的狀況的數值\n",
    "# 常用的 200 是 一切順利 404 是 not found\n",
    "res.status_code"
   ]
  },
  {
   "cell_type": "code",
   "execution_count": 7,
   "metadata": {},
   "outputs": [
    {
     "data": {
      "text/plain": [
       "'utf-8'"
      ]
     },
     "execution_count": 7,
     "metadata": {},
     "output_type": "execute_result"
    }
   ],
   "source": [
    "# 此回傳的編碼\n",
    "res.encoding"
   ]
  },
  {
   "cell_type": "code",
   "execution_count": 8,
   "metadata": {},
   "outputs": [
    {
     "name": "stdout",
     "output_type": "stream",
     "text": [
      "<!DOCTYPE html>\n",
      "<html lang=\"en\">\n",
      "<head>\n",
      "    <meta charset=\"UTF-8\">\n",
      "    <title>辦公室的下午茶</title>\n",
      "</head>\n",
      "<body>\n",
      "    <p id=\"老闆\" class=\"半糖 去冰 珍珠 奶茶\">老闆的半糖去冰珍珠奶茶</p>\n",
      "    <p id=\"資深前輩\" class=\"無糖 去冰 綠茶\">資深前輩的無糖去冰綠茶</p>\n",
      "    <p id=\"Pala\" class=\"無糖 微冰 鐵觀音\">Pala的無糖微冰鐵觀音</p>\n",
      "    <p id=\"心儀同事\" class=\"半糖 去冰 文山青茶\">心儀同事的半糖去冰文山青茶</p>\n",
      "    <p id=\"工讀生\" class=\"半糖 微冰 珍珠 紅茶\">工讀生的半糖微冰珍珠紅茶</p>\n",
      "</body>\n",
      "</html>\n"
     ]
    }
   ],
   "source": [
    "# 把原始碼輸出\n",
    "print(res.text)"
   ]
  },
  {
   "cell_type": "markdown",
   "metadata": {},
   "source": [
    "太好了～我們已經取得我們要的 HTML 內容了  \n",
    "再來是解析 HTML  \n",
    "找到我們要的內容"
   ]
  },
  {
   "cell_type": "markdown",
   "metadata": {},
   "source": [
    "## BeautifulSoup\n",
    "以下簡稱 bs"
   ]
  },
  {
   "cell_type": "code",
   "execution_count": 9,
   "metadata": {
    "collapsed": true
   },
   "outputs": [],
   "source": [
    "# 把 HTML 丟到 bs 裡面，使用 「html」的解析器\n",
    "soup = BeautifulSoup(res.text,\"html.parser\")"
   ]
  },
  {
   "cell_type": "code",
   "execution_count": 10,
   "metadata": {},
   "outputs": [
    {
     "data": {
      "text/plain": [
       "bs4.BeautifulSoup"
      ]
     },
     "execution_count": 10,
     "metadata": {},
     "output_type": "execute_result"
    }
   ],
   "source": [
    "# 可以看到soup會變成一個 bs 物件\n",
    "type(soup)"
   ]
  },
  {
   "cell_type": "markdown",
   "metadata": {},
   "source": [
    "### bs物件"
   ]
  },
  {
   "cell_type": "markdown",
   "metadata": {},
   "source": [
    "bs 物件的一些基本屬性"
   ]
  },
  {
   "cell_type": "code",
   "execution_count": 11,
   "metadata": {},
   "outputs": [
    {
     "data": {
      "text/plain": [
       "<title>辦公室的下午茶</title>"
      ]
     },
     "execution_count": 11,
     "metadata": {},
     "output_type": "execute_result"
    }
   ],
   "source": [
    "# 標題標籤\n",
    "soup.title"
   ]
  },
  {
   "cell_type": "code",
   "execution_count": 12,
   "metadata": {},
   "outputs": [
    {
     "data": {
      "text/plain": [
       "'辦公室的下午茶'"
      ]
     },
     "execution_count": 12,
     "metadata": {},
     "output_type": "execute_result"
    }
   ],
   "source": [
    "# 取出該標籤的字串\n",
    "soup.title.string"
   ]
  },
  {
   "cell_type": "code",
   "execution_count": 13,
   "metadata": {},
   "outputs": [
    {
     "data": {
      "text/plain": [
       "<head>\n",
       "<meta charset=\"utf-8\"/>\n",
       "<title>辦公室的下午茶</title>\n",
       "</head>"
      ]
     },
     "execution_count": 13,
     "metadata": {},
     "output_type": "execute_result"
    }
   ],
   "source": [
    "# 找到那個標籤上一層的標籤\n",
    "soup.title.parent"
   ]
  },
  {
   "cell_type": "code",
   "execution_count": 14,
   "metadata": {},
   "outputs": [
    {
     "name": "stdout",
     "output_type": "stream",
     "text": [
      "None\n"
     ]
    }
   ],
   "source": [
    "# 尋找a標籤\n",
    "# 但是 HTML 裡面沒有 所以回傳 None\n",
    "print(soup.a)"
   ]
  },
  {
   "cell_type": "code",
   "execution_count": 15,
   "metadata": {},
   "outputs": [
    {
     "data": {
      "text/plain": [
       "<p class=\"半糖 去冰 珍珠 奶茶\" id=\"老闆\">老闆的半糖去冰珍珠奶茶</p>"
      ]
     },
     "execution_count": 15,
     "metadata": {},
     "output_type": "execute_result"
    }
   ],
   "source": [
    "# 回傳「第一個」p標籤\n",
    "soup.p"
   ]
  },
  {
   "cell_type": "code",
   "execution_count": 16,
   "metadata": {},
   "outputs": [
    {
     "data": {
      "text/plain": [
       "['半糖', '去冰', '珍珠', '奶茶']"
      ]
     },
     "execution_count": 16,
     "metadata": {},
     "output_type": "execute_result"
    }
   ],
   "source": [
    "# 用[attribute]的方式 來抓取該標籤的屬性\n",
    "soup.p['class']"
   ]
  },
  {
   "cell_type": "markdown",
   "metadata": {},
   "source": [
    "### find"
   ]
  },
  {
   "cell_type": "code",
   "execution_count": 17,
   "metadata": {},
   "outputs": [
    {
     "data": {
      "text/plain": [
       "<p class=\"半糖 去冰 珍珠 奶茶\" id=\"老闆\">老闆的半糖去冰珍珠奶茶</p>"
      ]
     },
     "execution_count": 17,
     "metadata": {},
     "output_type": "execute_result"
    }
   ],
   "source": [
    "# 尋找「第一個」p標籤\n",
    "soup.find('p')"
   ]
  },
  {
   "cell_type": "code",
   "execution_count": 18,
   "metadata": {},
   "outputs": [
    {
     "data": {
      "text/plain": [
       "<p class=\"無糖 微冰 鐵觀音\" id=\"Pala\">Pala的無糖微冰鐵觀音</p>"
      ]
     },
     "execution_count": 18,
     "metadata": {},
     "output_type": "execute_result"
    }
   ],
   "source": [
    "# 尋找 id 為 \"Pala\"的標籤\n",
    "soup.find(id=\"Pala\")"
   ]
  },
  {
   "cell_type": "code",
   "execution_count": 29,
   "metadata": {},
   "outputs": [
    {
     "ename": "SyntaxError",
     "evalue": "invalid syntax (<ipython-input-29-a1f74783a7b6>, line 3)",
     "output_type": "error",
     "traceback": [
      "\u001b[0;36m  File \u001b[0;32m\"<ipython-input-29-a1f74783a7b6>\"\u001b[0;36m, line \u001b[0;32m3\u001b[0m\n\u001b[0;31m    print(soup.find(class=\"無糖\"))\u001b[0m\n\u001b[0m                        ^\u001b[0m\n\u001b[0;31mSyntaxError\u001b[0m\u001b[0;31m:\u001b[0m invalid syntax\n"
     ]
    }
   ],
   "source": [
    "# 錯誤 尋找class\n",
    "# 但是因為 class 是保留字 所以加一個底線\n",
    "# print(soup.find(class=\"無糖\"))"
   ]
  },
  {
   "cell_type": "code",
   "execution_count": 20,
   "metadata": {},
   "outputs": [
    {
     "data": {
      "text/plain": [
       "<p class=\"無糖 去冰 綠茶\" id=\"資深前輩\">資深前輩的無糖去冰綠茶</p>"
      ]
     },
     "execution_count": 20,
     "metadata": {},
     "output_type": "execute_result"
    }
   ],
   "source": [
    "# 尋找 class 為 \"無糖\"的標籤\n",
    "soup.find(class_=\"無糖\")"
   ]
  },
  {
   "cell_type": "code",
   "execution_count": 21,
   "metadata": {},
   "outputs": [
    {
     "data": {
      "text/plain": [
       "<p class=\"半糖 去冰 文山青茶\" id=\"心儀同事\">心儀同事的半糖去冰文山青茶</p>"
      ]
     },
     "execution_count": 21,
     "metadata": {},
     "output_type": "execute_result"
    }
   ],
   "source": [
    "# 混用標籤與 id\n",
    "soup.find(\"p\",id=\"心儀同事\")"
   ]
  },
  {
   "cell_type": "code",
   "execution_count": 22,
   "metadata": {},
   "outputs": [
    {
     "data": {
      "text/plain": [
       "<p class=\"無糖 微冰 鐵觀音\" id=\"Pala\">Pala的無糖微冰鐵觀音</p>"
      ]
     },
     "execution_count": 22,
     "metadata": {},
     "output_type": "execute_result"
    }
   ],
   "source": [
    "# 混用標籤與 class\n",
    "soup.find(\"p\",class_=\"微冰\")"
   ]
  },
  {
   "cell_type": "markdown",
   "metadata": {},
   "source": [
    "### find_all"
   ]
  },
  {
   "cell_type": "markdown",
   "metadata": {},
   "source": [
    "find 只會回傳「第一個」符合條件的標籤  \n",
    "使用 find_all 會回傳「所有」符合條件的標籤"
   ]
  },
  {
   "cell_type": "code",
   "execution_count": 23,
   "metadata": {},
   "outputs": [
    {
     "data": {
      "text/plain": [
       "[<p class=\"半糖 去冰 珍珠 奶茶\" id=\"老闆\">老闆的半糖去冰珍珠奶茶</p>,\n",
       " <p class=\"無糖 去冰 綠茶\" id=\"資深前輩\">資深前輩的無糖去冰綠茶</p>,\n",
       " <p class=\"無糖 微冰 鐵觀音\" id=\"Pala\">Pala的無糖微冰鐵觀音</p>,\n",
       " <p class=\"半糖 去冰 文山青茶\" id=\"心儀同事\">心儀同事的半糖去冰文山青茶</p>,\n",
       " <p class=\"半糖 微冰 珍珠 紅茶\" id=\"工讀生\">工讀生的半糖微冰珍珠紅茶</p>]"
      ]
     },
     "execution_count": 23,
     "metadata": {},
     "output_type": "execute_result"
    }
   ],
   "source": [
    "# 找出所有 p 標籤\n",
    "# 會做成 list 回傳給你\n",
    "find_all_list = soup.find_all('p')\n",
    "find_all_list"
   ]
  },
  {
   "cell_type": "code",
   "execution_count": 24,
   "metadata": {},
   "outputs": [
    {
     "data": {
      "text/plain": [
       "[<p class=\"無糖 去冰 綠茶\" id=\"資深前輩\">資深前輩的無糖去冰綠茶</p>,\n",
       " <p class=\"無糖 微冰 鐵觀音\" id=\"Pala\">Pala的無糖微冰鐵觀音</p>]"
      ]
     },
     "execution_count": 24,
     "metadata": {},
     "output_type": "execute_result"
    }
   ],
   "source": [
    "# 用法和 find 相像\n",
    "# 一樣可以用 id 和 class 來搜尋\n",
    "find_all_list = soup.find_all('p',class_=\"無糖\")\n",
    "find_all_list"
   ]
  },
  {
   "cell_type": "markdown",
   "metadata": {},
   "source": [
    "### select"
   ]
  },
  {
   "cell_type": "markdown",
   "metadata": {},
   "source": [
    "使用 css selector 來選取元素\n",
    "- [W3school - CSS_selector](https://www.w3schools.com/cssref/css_selectors.asp)"
   ]
  },
  {
   "cell_type": "code",
   "execution_count": 25,
   "metadata": {},
   "outputs": [
    {
     "name": "stdout",
     "output_type": "stream",
     "text": [
      "請輸入要尋找的目標（class使用. ID使用#）：#老闆\n"
     ]
    },
    {
     "data": {
      "text/plain": [
       "[<p class=\"半糖 去冰 珍珠 奶茶\" id=\"老闆\">老闆的半糖去冰珍珠奶茶</p>]"
      ]
     },
     "execution_count": 25,
     "metadata": {},
     "output_type": "execute_result"
    }
   ],
   "source": [
    "# 使用 css selector 搜尋\n",
    "target = input(\"請輸入要尋找的目標（class使用. ID使用#）：\")\n",
    "found_list = soup.select(target)\n",
    "found_list"
   ]
  },
  {
   "cell_type": "code",
   "execution_count": 26,
   "metadata": {},
   "outputs": [
    {
     "data": {
      "text/plain": [
       "[<p class=\"半糖 去冰 珍珠 奶茶\" id=\"老闆\">老闆的半糖去冰珍珠奶茶</p>,\n",
       " <p class=\"無糖 去冰 綠茶\" id=\"資深前輩\">資深前輩的無糖去冰綠茶</p>,\n",
       " <p class=\"半糖 去冰 文山青茶\" id=\"心儀同事\">心儀同事的半糖去冰文山青茶</p>]"
      ]
     },
     "execution_count": 26,
     "metadata": {},
     "output_type": "execute_result"
    }
   ],
   "source": [
    "# select 不論結果是一個或是多個\n",
    "# 都會用 list 回傳\n",
    "found_list = soup.select('.去冰')\n",
    "found_list"
   ]
  },
  {
   "cell_type": "code",
   "execution_count": 27,
   "metadata": {},
   "outputs": [
    {
     "data": {
      "text/plain": [
       "['老闆的半糖去冰珍珠奶茶', '資深前輩的無糖去冰綠茶', '心儀同事的半糖去冰文山青茶']"
      ]
     },
     "execution_count": 27,
     "metadata": {},
     "output_type": "execute_result"
    }
   ],
   "source": [
    "# 把需要的字串擷取出來\n",
    "str_list = [each.string for each in found_list]\n",
    "str_list"
   ]
  },
  {
   "cell_type": "code",
   "execution_count": 28,
   "metadata": {},
   "outputs": [
    {
     "data": {
      "text/plain": [
       "['老闆', '資深前輩', '心儀同事']"
      ]
     },
     "execution_count": 28,
     "metadata": {},
     "output_type": "execute_result"
    }
   ],
   "source": [
    "# 取出特別的屬性\n",
    "get_list = [each.get('id') for each in found_list]\n",
    "get_list"
   ]
  },
  {
   "cell_type": "markdown",
   "metadata": {
    "collapsed": true
   },
   "source": [
    "爬蟲的技術不算太複雜  \n",
    "比較難的是找出我們要的資訊  \n",
    "還有實作的經驗  \n",
    "所以讓我們試著開始實作吧"
   ]
  },
  {
   "cell_type": "code",
   "execution_count": null,
   "metadata": {
    "collapsed": true
   },
   "outputs": [],
   "source": []
  },
  {
   "cell_type": "code",
   "execution_count": null,
   "metadata": {
    "collapsed": true
   },
   "outputs": [],
   "source": []
  },
  {
   "cell_type": "code",
   "execution_count": null,
   "metadata": {
    "collapsed": true
   },
   "outputs": [],
   "source": []
  }
 ],
 "metadata": {
  "kernelspec": {
   "display_name": "Python 3",
   "language": "python",
   "name": "python3"
  },
  "language_info": {
   "codemirror_mode": {
    "name": "ipython",
    "version": 3
   },
   "file_extension": ".py",
   "mimetype": "text/x-python",
   "name": "python",
   "nbconvert_exporter": "python",
   "pygments_lexer": "ipython3",
   "version": "3.6.2"
  }
 },
 "nbformat": 4,
 "nbformat_minor": 2
}
