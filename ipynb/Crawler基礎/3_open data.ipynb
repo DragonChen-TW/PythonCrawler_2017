{
 "cells": [
  {
   "cell_type": "markdown",
   "metadata": {},
   "source": [
    "# Crawler基礎－如何從OpenData上獲取資料"
   ]
  },
  {
   "cell_type": "markdown",
   "metadata": {},
   "source": [
    "## 目錄\n",
    "- [select](#select)"
   ]
  },
  {
   "cell_type": "markdown",
   "metadata": {},
   "source": [
    "## 範例網站\n",
    "- 空氣品質指標（AQI） https://data.gov.tw/dataset/40448\n",
    "- OpenData 詳細介紹（重點從23頁開始） https://ppt.cc/fodSkx\n"
   ]
  },
  {
   "cell_type": "markdown",
   "metadata": {},
   "source": [
    "## Open Data 介紹\n",
    "Open Data是一種公開資料（多數為政府）的型態、民眾獲取資料的方式  \n",
    "政府會將他收集統計或是民眾分享的資料放在網路上，讓每個人都可以使用  \n",
    "\n",
    "Open Data有兩大特色：開放和資料（Open and Data）  \n",
    "通常Open Data有這些特性：**完全免費、可任意使用、可再次分享出去**  \n",
    "資料的部分強調的是：**公眾事務、政府運作的資料，具有資料意義**\n",
    "\n",
    "一個開發者，可以從Open Data中，任意地使用資料開發應用程式，甚至進一步，把整理過後的資料回饋給社會，讓Open Data變得更懊，達到「公民參與」的目的"
   ]
  },
  {
   "cell_type": "markdown",
   "metadata": {},
   "source": [
    "### from json"
   ]
  },
  {
   "cell_type": "code",
   "execution_count": 63,
   "metadata": {
    "collapsed": true
   },
   "outputs": [],
   "source": [
    "import requests, json, csv"
   ]
  },
  {
   "cell_type": "code",
   "execution_count": 65,
   "metadata": {
    "collapsed": true
   },
   "outputs": [],
   "source": [
    "# 從OpenData網站選擇你要的資料集 這裡以空氣品質指標為例\n",
    "# 選擇 json 的網址\n",
    "url = 'http://opendata2.epa.gov.tw/AQI.json'\n",
    "head = {'user-agent':'Safari'}"
   ]
  },
  {
   "cell_type": "code",
   "execution_count": 66,
   "metadata": {},
   "outputs": [
    {
     "data": {
      "text/plain": [
       "True"
      ]
     },
     "execution_count": 66,
     "metadata": {},
     "output_type": "execute_result"
    }
   ],
   "source": [
    "# 用requests抓取資料\n",
    "res = requests.get(url,headers=head)\n",
    "res.ok"
   ]
  },
  {
   "cell_type": "code",
   "execution_count": 91,
   "metadata": {},
   "outputs": [
    {
     "data": {
      "text/plain": [
       "list"
      ]
     },
     "execution_count": 91,
     "metadata": {},
     "output_type": "execute_result"
    }
   ],
   "source": [
    "# 把回傳的文字用 json.loads 解析\n",
    "# 可以看到確實變成了 python list\n",
    "aqi = json.loads(res.text)\n",
    "type(aqi)"
   ]
  },
  {
   "cell_type": "code",
   "execution_count": 69,
   "metadata": {
    "collapsed": true
   },
   "outputs": [],
   "source": [
    "# 也可以使用 requests 自帶的json解析器\n",
    "aqi = res.json()"
   ]
  },
  {
   "cell_type": "code",
   "execution_count": 58,
   "metadata": {},
   "outputs": [
    {
     "data": {
      "text/plain": [
       "{'AQI': '84',\n",
       " 'CO': '0.26',\n",
       " 'CO_8hr': '0.3',\n",
       " 'County': '基隆市',\n",
       " 'NO': '0.4',\n",
       " 'NO2': '4.7',\n",
       " 'NOx': '5.1',\n",
       " 'O3': '45',\n",
       " 'O3_8hr': '51',\n",
       " 'PM10': '36',\n",
       " 'PM10_AVG': '53',\n",
       " 'PM2.5': '21',\n",
       " 'PM2.5_AVG': '29',\n",
       " 'Pollutant': '細懸浮微粒',\n",
       " 'PublishTime': '2017-12-05 07:00',\n",
       " 'SO2': '2',\n",
       " 'SiteName': '基隆',\n",
       " 'Status': '普通',\n",
       " 'WindDirec': '89',\n",
       " 'WindSpeed': '1.8'}"
      ]
     },
     "execution_count": 58,
     "metadata": {},
     "output_type": "execute_result"
    }
   ],
   "source": [
    "# 我們檢查 list 中的單一結構\n",
    "# 通常為簡單的 dict\n",
    "aqi[0]"
   ]
  },
  {
   "cell_type": "code",
   "execution_count": 59,
   "metadata": {},
   "outputs": [
    {
     "data": {
      "text/plain": [
       "77"
      ]
     },
     "execution_count": 59,
     "metadata": {},
     "output_type": "execute_result"
    }
   ],
   "source": [
    "# 檢查有多少個\n",
    "len(aqi)"
   ]
  },
  {
   "cell_type": "code",
   "execution_count": 72,
   "metadata": {},
   "outputs": [
    {
     "name": "stdout",
     "output_type": "stream",
     "text": [
      "基隆市 新北市 新北市 新北市 新北市 新北市 新北市 新北市 新北市 新北市 臺北市 臺北市 臺北市 臺北市 臺北市 臺北市 桃園市 桃園市 桃園市 桃園市 桃園市 新竹縣 新竹縣 新竹市 苗栗縣 苗栗縣 苗栗縣 臺中市 臺中市 臺中市 臺中市 臺中市 彰化縣 彰化縣 彰化縣 南投縣 雲林縣 雲林縣 嘉義縣 嘉義縣 雲林縣 嘉義市 臺南市 臺南市 臺南市 臺南市 高雄市 高雄市 高雄市 高雄市 高雄市 高雄市 高雄市 高雄市 高雄市 高雄市 高雄市 屏東縣 屏東縣 屏東縣 臺東縣 花蓮縣 臺北市 宜蘭縣 宜蘭縣 新北市 桃園市 南投縣 新北市 高雄市 南投縣 連江縣 金門縣 澎湖縣 臺東縣 雲林縣 新北市 "
     ]
    }
   ],
   "source": [
    "# 檢查看看County欄位\n",
    "for each in aqi:\n",
    "    print(each['County'],end=' ')"
   ]
  },
  {
   "cell_type": "markdown",
   "metadata": {},
   "source": [
    "奇怪 怎麼看不出差別  \n",
    "在檢查看看上面的 aqi[0]"
   ]
  },
  {
   "cell_type": "code",
   "execution_count": 74,
   "metadata": {},
   "outputs": [
    {
     "name": "stdout",
     "output_type": "stream",
     "text": [
      "基隆 汐止 萬里 新店 土城 板橋 新莊 菜寮 林口 淡水 士林 中山 萬華 古亭 松山 大同 桃園 大園 觀音 平鎮 龍潭 湖口 竹東 新竹 頭份 苗栗 三義 豐原 沙鹿 大里 忠明 西屯 彰化 線西 二林 南投 斗六 崙背 新港 朴子 臺西 嘉義 新營 善化 安南 臺南 美濃 橋頭 仁武 鳳山 大寮 林園 楠梓 左營 前金 前鎮 小港 屏東 潮州 恆春 臺東 花蓮 陽明 宜蘭 冬山 三重 中壢 竹山 永和 復興 埔里 馬祖 金門 馬公 關山 麥寮 富貴角 "
     ]
    }
   ],
   "source": [
    "# 測試看看另一個 SiteName\n",
    "for each in aqi:\n",
    "    print(each['SiteName'],end=' ')"
   ]
  },
  {
   "cell_type": "markdown",
   "metadata": {},
   "source": [
    "於是我們了解 County 是觀測站所在城市  \n",
    "SiteName是觀測站的站名，也是所屬地區的名字"
   ]
  },
  {
   "cell_type": "code",
   "execution_count": 92,
   "metadata": {
    "collapsed": true
   },
   "outputs": [],
   "source": [
    "# 取高雄市的10個示範\n",
    "aqi = aqi[45:55]"
   ]
  },
  {
   "cell_type": "code",
   "execution_count": 93,
   "metadata": {
    "scrolled": true
   },
   "outputs": [
    {
     "data": {
      "text/plain": [
       "['臺南市-臺南 130 對敏感族群不健康',\n",
       " '高雄市-美濃 104 對敏感族群不健康',\n",
       " '高雄市-橋頭 155 對所有族群不健康',\n",
       " '高雄市-仁武 144 對敏感族群不健康',\n",
       " '高雄市-鳳山 148 對敏感族群不健康',\n",
       " '高雄市-大寮 131 對敏感族群不健康',\n",
       " '高雄市-林園 109 對敏感族群不健康',\n",
       " '高雄市-楠梓 155 對所有族群不健康',\n",
       " '高雄市-左營 145 對敏感族群不健康',\n",
       " '高雄市-前金 143 對敏感族群不健康']"
      ]
     },
     "execution_count": 93,
     "metadata": {},
     "output_type": "execute_result"
    }
   ],
   "source": [
    "[f\"{each['County']}-{each['SiteName']} {each['AQI']} {each['Status']}\"\n",
    " for each in aqi]"
   ]
  }
 ],
 "metadata": {
  "kernelspec": {
   "display_name": "Python 3",
   "language": "python",
   "name": "python3"
  },
  "language_info": {
   "codemirror_mode": {
    "name": "ipython",
    "version": 3
   },
   "file_extension": ".py",
   "mimetype": "text/x-python",
   "name": "python",
   "nbconvert_exporter": "python",
   "pygments_lexer": "ipython3",
   "version": "3.6.2"
  }
 },
 "nbformat": 4,
 "nbformat_minor": 2
}
