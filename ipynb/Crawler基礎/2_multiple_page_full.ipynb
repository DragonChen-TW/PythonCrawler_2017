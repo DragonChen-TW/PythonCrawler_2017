{
 "cells": [
  {
   "cell_type": "markdown",
   "metadata": {},
   "source": [
    "# Crawler基礎—multiple_page 完整版"
   ]
  },
  {
   "cell_type": "markdown",
   "metadata": {},
   "source": [
    "## 範例網站\n",
    "- 公視新聞 https://news.pts.org.tw/list/0"
   ]
  },
  {
   "cell_type": "markdown",
   "metadata": {},
   "source": [
    "### 載入函式庫"
   ]
  },
  {
   "cell_type": "code",
   "execution_count": 1,
   "metadata": {
    "collapsed": true
   },
   "outputs": [],
   "source": [
    "import requests\n",
    "from bs4 import BeautifulSoup"
   ]
  },
  {
   "cell_type": "markdown",
   "metadata": {},
   "source": [
    "### 函式"
   ]
  },
  {
   "cell_type": "code",
   "execution_count": 2,
   "metadata": {
    "collapsed": true
   },
   "outputs": [],
   "source": [
    "# 輸入為 url (網址)  輸出為 res.text (網頁原始碼)\n",
    "# 讓函式盡可能簡單、輸入出格式固定\n",
    "def get_page(url):\n",
    "    head = {'user-agent':'Safari'}\n",
    "    res = requests.get(url,headers=head)\n",
    "    return(res.text)"
   ]
  },
  {
   "cell_type": "code",
   "execution_count": 3,
   "metadata": {
    "collapsed": true
   },
   "outputs": [],
   "source": [
    "# 輸入為 html(原始碼) 輸出為 find 特定 class 內容(那頁新聞的內容)\n",
    "# 如果函式是特定用途 要記下來（註解）或是提高函式的彈性\n",
    "def get_content(html):\n",
    "    soup = BeautifulSoup(html,'html.parser')\n",
    "    content = soup.find(class_='article-content')   \n",
    "    return(content)"
   ]
  },
  {
   "cell_type": "markdown",
   "metadata": {},
   "source": [
    "### 先創個放檔案的資料夾"
   ]
  },
  {
   "cell_type": "code",
   "execution_count": 4,
   "metadata": {
    "collapsed": true
   },
   "outputs": [],
   "source": [
    "import os\n",
    "os.makedirs('out',exist_ok=True)"
   ]
  },
  {
   "cell_type": "markdown",
   "metadata": {},
   "source": [
    "### 先獲得要抓取的所有列表"
   ]
  },
  {
   "cell_type": "code",
   "execution_count": 5,
   "metadata": {
    "collapsed": true
   },
   "outputs": [],
   "source": [
    "# 先用 temp 抓取到所有新聞的網頁原始碼\n",
    "temp = get_page('https://news.pts.org.tw/list/0')"
   ]
  },
  {
   "cell_type": "code",
   "execution_count": 6,
   "metadata": {},
   "outputs": [
    {
     "data": {
      "text/plain": [
       "[<a href=\"https://news.pts.org.tw/article/379335\">冷氣團發威.水氣偏多 玉山凌晨又降雪</a>,\n",
       " <a href=\"https://news.pts.org.tw/article/379336\">獵雷艦解約前夕 慶富聲明:找到百億金主</a>,\n",
       " <a href=\"https://news.pts.org.tw/article/379337\">高雄長谷旅行社驚傳停業 影響約5百旅客</a>,\n",
       " <a href=\"https://news.pts.org.tw/article/379338\">中駐美公使:美艦抵高雄 即武統台灣之時</a>,\n",
       " <a href=\"https://news.pts.org.tw/article/379339\">國民黨一中全會 吳敦義批民進黨執政不佳</a>,\n",
       " <a href=\"https://news.pts.org.tw/article/379340\">以巴燃戰火 中東地區傳2死.逾7百人受傷</a>,\n",
       " <a href=\"https://news.pts.org.tw/article/379341\">蒲亭赴西伯利亞 主持液化天然氣廠啟用</a>,\n",
       " <a href=\"https://news.pts.org.tw/article/379342\">利用燃煤發電.冬季取暖 蒙古空汙極嚴重</a>,\n",
       " <a href=\"https://news.pts.org.tw/article/379343\">住院部分負擔將調高上限 單次調高1千</a>,\n",
       " <a href=\"https://news.pts.org.tw/article/379344\">去年垃圾回收率58%？ 環團：忽略部分數據</a>,\n",
       " <a href=\"https://news.pts.org.tw/article/379345\">贊成投票年齡下修至18歲 柯：世界潮流</a>,\n",
       " <a href=\"https://news.pts.org.tw/article/379346\">詹詠然.辛吉絲組合 獲ITF年度女雙冠軍</a>,\n",
       " <a href=\"https://news.pts.org.tw/article/379347\">照護運動員 輔大醫院成立運動醫學中心</a>,\n",
       " <a href=\"https://news.pts.org.tw/article/379348\">\"想像紀念堂\"特展 用創作思索轉型正義</a>]"
      ]
     },
     "execution_count": 6,
     "metadata": {},
     "output_type": "execute_result"
    }
   ],
   "source": [
    "# 分析 取出通往新聞的每一個連結\n",
    "soup = BeautifulSoup(temp,'html.parser')\n",
    "title_list = soup.find_all(class_='list-news-title') \n",
    "title_list = [each.find('a') for each in title_list]\n",
    "title_list"
   ]
  },
  {
   "cell_type": "code",
   "execution_count": 7,
   "metadata": {
    "collapsed": true
   },
   "outputs": [],
   "source": [
    "# 只取五個做範例\n",
    "title_list = title_list[0:5]"
   ]
  },
  {
   "cell_type": "code",
   "execution_count": 8,
   "metadata": {},
   "outputs": [
    {
     "name": "stdout",
     "output_type": "stream",
     "text": [
      "https://news.pts.org.tw/article/379335\n",
      "https://news.pts.org.tw/article/379336\n",
      "https://news.pts.org.tw/article/379337\n",
      "https://news.pts.org.tw/article/379338\n",
      "https://news.pts.org.tw/article/379339\n"
     ]
    }
   ],
   "source": [
    "# 利用 .get(屬性) 來取出 標籤內的attribute\n",
    "# 在這裡是獲得每一個新聞的網址\n",
    "for title in title_list:\n",
    "    print(title.get('href'))"
   ]
  },
  {
   "cell_type": "code",
   "execution_count": 9,
   "metadata": {},
   "outputs": [
    {
     "name": "stdout",
     "output_type": "stream",
     "text": [
      "最近的天氣、冷颼颼，而受到「大陸冷氣團」和水氣偏多影響，「玉山觀測站」，今天凌晨\n",
      "\n",
      "今天是軍方對「慶富」解約的「最後通牒」，但就在昨天晚上、解約前夕，慶富董事長陳慶\n",
      "\n",
      "高雄老字號的「長谷旅行社」驚傳停業，公司收了訂金，結果「未出團」旅客，大約有50\n",
      "\n",
      "中國駐美公使李克新，美國時間8號在華府的一場「僑學界講座」上，針對美國國會通過的\n",
      "\n",
      "國民黨在今天召開第20屆「一中全會」。黨主席吳敦義批評民進黨政府，執政不佳，面對\n",
      "\n"
     ]
    }
   ],
   "source": [
    "# 利用寫好的函式 快速獲得要的內容\n",
    "# 這樣的寫法 乾淨且易懂\n",
    "for title in title_list:\n",
    "    # 記得看清楚函式的輸入輸出\n",
    "    html = get_page(title.get('href'))\n",
    "    article = get_content(html)\n",
    "    \n",
    "    # 輸出摘要 以確認正常抓到資料\n",
    "    print(article.get_text()[0:40])\n",
    "    print()\n",
    "    \n",
    "    # 也可以存成檔案\n",
    "    file_name = 'out/' + title.string + '.txt'\n",
    "    txt = open(file_name,'w')\n",
    "    txt.write(article.get_text())\n",
    "    txt.close()"
   ]
  },
  {
   "cell_type": "code",
   "execution_count": null,
   "metadata": {
    "collapsed": true
   },
   "outputs": [],
   "source": []
  }
 ],
 "metadata": {
  "kernelspec": {
   "display_name": "Python 3",
   "language": "python",
   "name": "python3"
  },
  "language_info": {
   "codemirror_mode": {
    "name": "ipython",
    "version": 3
   },
   "file_extension": ".py",
   "mimetype": "text/x-python",
   "name": "python",
   "nbconvert_exporter": "python",
   "pygments_lexer": "ipython3",
   "version": "3.6.2"
  }
 },
 "nbformat": 4,
 "nbformat_minor": 2
}
