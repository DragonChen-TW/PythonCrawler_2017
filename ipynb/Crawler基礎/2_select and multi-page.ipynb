{
 "cells": [
  {
   "cell_type": "markdown",
   "metadata": {},
   "source": [
    "# Crawler基礎－select、multi-page"
   ]
  },
  {
   "cell_type": "markdown",
   "metadata": {},
   "source": [
    "## 目錄\n",
    "- [select](#select)\n",
    "- [multi-page](#multiple-page)"
   ]
  },
  {
   "cell_type": "markdown",
   "metadata": {},
   "source": [
    "### select"
   ]
  },
  {
   "cell_type": "markdown",
   "metadata": {},
   "source": [
    "使用 css selector 來選取元素\n",
    "- [W3school - CSS_selector](https://www.w3schools.com/cssref/css_selectors.asp)"
   ]
  },
  {
   "cell_type": "code",
   "execution_count": 1,
   "metadata": {
    "collapsed": true
   },
   "outputs": [],
   "source": [
    "import requests\n",
    "from bs4 import BeautifulSoup"
   ]
  },
  {
   "cell_type": "code",
   "execution_count": 2,
   "metadata": {
    "collapsed": true
   },
   "outputs": [],
   "source": [
    "# 先把後面會用到的全域變數放在這裡\n",
    "url = \"http://pala.tw/class-id-example/\"\n",
    "headers = {'user-agent':'Safari'}"
   ]
  },
  {
   "cell_type": "code",
   "execution_count": 3,
   "metadata": {
    "collapsed": true
   },
   "outputs": [],
   "source": [
    "res = requests.get(url)\n",
    "soup = BeautifulSoup(res.text,'html.parser')"
   ]
  },
  {
   "cell_type": "code",
   "execution_count": 4,
   "metadata": {},
   "outputs": [
    {
     "data": {
      "text/plain": [
       "[<p class=\"無糖 微冰 鐵觀音\" id=\"Pala\">Pala的無糖微冰鐵觀音</p>]"
      ]
     },
     "execution_count": 4,
     "metadata": {},
     "output_type": "execute_result"
    }
   ],
   "source": [
    "# 使用 css selector 搜尋\n",
    "found_list = soup.select('#Pala')\n",
    "found_list"
   ]
  },
  {
   "cell_type": "code",
   "execution_count": 5,
   "metadata": {},
   "outputs": [
    {
     "data": {
      "text/plain": [
       "[<p class=\"半糖 去冰 珍珠 奶茶\" id=\"老闆\">老闆的半糖去冰珍珠奶茶</p>,\n",
       " <p class=\"無糖 去冰 綠茶\" id=\"資深前輩\">資深前輩的無糖去冰綠茶</p>,\n",
       " <p class=\"半糖 去冰 文山青茶\" id=\"心儀同事\">心儀同事的半糖去冰文山青茶</p>]"
      ]
     },
     "execution_count": 5,
     "metadata": {},
     "output_type": "execute_result"
    }
   ],
   "source": [
    "# select 不論結果是一個或是多個\n",
    "# 都會用 list 回傳\n",
    "found_list = soup.select('.去冰')\n",
    "found_list"
   ]
  },
  {
   "cell_type": "code",
   "execution_count": 6,
   "metadata": {},
   "outputs": [
    {
     "data": {
      "text/plain": [
       "['老闆的半糖去冰珍珠奶茶', '資深前輩的無糖去冰綠茶', '心儀同事的半糖去冰文山青茶']"
      ]
     },
     "execution_count": 6,
     "metadata": {},
     "output_type": "execute_result"
    }
   ],
   "source": [
    "# 把需要的字串擷取出來\n",
    "str_list = [each.string for each in found_list]\n",
    "str_list"
   ]
  },
  {
   "cell_type": "code",
   "execution_count": 7,
   "metadata": {},
   "outputs": [
    {
     "data": {
      "text/plain": [
       "['老闆', '資深前輩', '心儀同事']"
      ]
     },
     "execution_count": 7,
     "metadata": {},
     "output_type": "execute_result"
    }
   ],
   "source": [
    "# 取出特別的屬性\n",
    "get_list = [each.get('id') for each in found_list]\n",
    "get_list"
   ]
  },
  {
   "cell_type": "markdown",
   "metadata": {
    "collapsed": true
   },
   "source": [
    "解析HTML的方法差不多就到這裡\n",
    "常用的三種解析方法：\n",
    "1. 套件內建的function\n",
    "2. css selector\n",
    "3. Xpath\n",
    "有需要可以再自己上網學習"
   ]
  },
  {
   "cell_type": "markdown",
   "metadata": {
    "collapsed": true
   },
   "source": [
    "## multiple-page"
   ]
  },
  {
   "cell_type": "markdown",
   "metadata": {
    "collapsed": true
   },
   "source": [
    "如果多練習幾次爬蟲，多使用requests和bs套件  \n",
    "你會發現他有一些固定的規律  \n",
    "如果我們想要一次性多抓取一些頁面  \n",
    "就很適合設計成function  \n",
    "讓程式碼變的簡潔"
   ]
  },
  {
   "cell_type": "code",
   "execution_count": 10,
   "metadata": {
    "collapsed": true
   },
   "outputs": [],
   "source": [
    "# 把 url 傳進來\n",
    "# 用 requests 抓取後 回傳原始碼\n",
    "def get_page(url):\n",
    "    head = {'user-agent':'Safari'}\n",
    "    res = requests.get(url,headers=head)\n",
    "    return(res.text)"
   ]
  },
  {
   "cell_type": "code",
   "execution_count": 12,
   "metadata": {
    "collapsed": true
   },
   "outputs": [],
   "source": [
    "# 先用 temp 抓取到所有新聞的網頁原始碼\n",
    "temp = get_page('https://news.pts.org.tw/list/0')"
   ]
  },
  {
   "cell_type": "code",
   "execution_count": 15,
   "metadata": {
    "collapsed": true
   },
   "outputs": [],
   "source": [
    "# 利用 bs 選出 title 做成 list\n",
    "soup = BeautifulSoup(temp,'html.parser')\n",
    "title_list = soup.find_all(class_='list-news-title')\n",
    "title_list = [each.find('a') for each in title_list]"
   ]
  },
  {
   "cell_type": "code",
   "execution_count": 20,
   "metadata": {},
   "outputs": [
    {
     "data": {
      "text/plain": [
       "[<a href=\"https://news.pts.org.tw/article/378162\">李明哲遭中國判刑5年 當庭放棄上訴</a>,\n",
       " <a href=\"https://news.pts.org.tw/article/378163\">新北之外五都補助私幼學費 民團表抗議</a>,\n",
       " <a href=\"https://news.pts.org.tw/article/378164\">歐洲議會表決通過 展延\"嘉磷賽\"執照5年</a>,\n",
       " <a href=\"https://news.pts.org.tw/article/378165\">雞蛋\"芬普尼\"農藥容許量 放寬至10ppb</a>,\n",
       " <a href=\"https://news.pts.org.tw/article/378166\">勞團:勞基修法前 多工會被打壓.成員遭解僱</a>]"
      ]
     },
     "execution_count": 20,
     "metadata": {},
     "output_type": "execute_result"
    }
   ],
   "source": [
    "# 選到了 我們用前五個就好\n",
    "title_list = title_list[0:5]\n",
    "title_list"
   ]
  },
  {
   "cell_type": "code",
   "execution_count": 26,
   "metadata": {
    "collapsed": true
   },
   "outputs": [],
   "source": [
    "# 先創個 out 資料夾\n",
    "from os import makedirs\n",
    "makedirs('out',exist_ok=True)"
   ]
  },
  {
   "cell_type": "code",
   "execution_count": 29,
   "metadata": {
    "collapsed": true
   },
   "outputs": [],
   "source": [
    "# 利用get_page函式 存每個頁面\n",
    "for title in title_list:\n",
    "    res = get_page(title.get('href'))\n",
    "    \n",
    "    file_name = 'out/' + title.string + '.html'\n",
    "    html = open(file_name,'w')\n",
    "    html.write(res)\n",
    "    html.close()"
   ]
  },
  {
   "cell_type": "code",
   "execution_count": 52,
   "metadata": {
    "collapsed": true
   },
   "outputs": [],
   "source": [
    "# 再來寫個負責parser的func吧!\n",
    "def get_content(html):\n",
    "    soup = BeautifulSoup(html,'html.parser')\n",
    "    \n",
    "    content = soup.find(class_='article-content')\n",
    "    return(content)"
   ]
  },
  {
   "cell_type": "code",
   "execution_count": 64,
   "metadata": {
    "collapsed": true
   },
   "outputs": [],
   "source": [
    "for title in title_list:\n",
    "    file_name = 'out/' + title.string\n",
    "    \n",
    "    html = open(file_name + '.html','r')\n",
    "    content = get_content(html.read())\n",
    "    html.close()\n",
    "    \n",
    "    txt = open(file_name + '.txt','w')\n",
    "    txt.write(content.get_text())\n",
    "    txt.close()"
   ]
  },
  {
   "cell_type": "code",
   "execution_count": 68,
   "metadata": {},
   "outputs": [
    {
     "name": "stdout",
     "output_type": "stream",
     "text": [
      "台灣NGO工作者李明哲今天被中國政府以顛覆國家政權罪判處5年徒刑，李明哲當庭表示接受判決也不會上訴，\n",
      "\n",
      "除了新北市之外其他五都，近來紛紛宣布從明年起、補助私立幼兒園學費，而且補助對象還向下延伸到2歲，今天\n",
      "\n",
      "台灣用很多的除草劑年年春，裡面的 嘉磷賽\"，被世界衛生組織認定為可能致癌物。由於\"嘉磷賽\"在歐洲的使\n",
      "\n",
      "雞蛋是否要制定農藥芬普尼殘留容許量？衛福部與農委會開跨部會專家會議，經過討論達成共識。考量蛋雞飼料進\n",
      "\n",
      "勞動法修法要鬆綁一例一休，將彈性工時交由勞資協商，不過，勞工團體則出面控訴，在修法前，已經有多個工會\n",
      "\n"
     ]
    }
   ],
   "source": [
    "# 更快速的方法 不存成檔案 直接放到parser裡面\n",
    "for title in title_list:\n",
    "    html = get_page(title.get('href'))\n",
    "    content = get_content(html)\n",
    "    \n",
    "    print(content.get_text()[0:50])\n",
    "    print()"
   ]
  },
  {
   "cell_type": "code",
   "execution_count": 69,
   "metadata": {},
   "outputs": [
    {
     "data": {
      "text/plain": [
       "['台灣NGO工作者李明哲今天被中國政府以顛覆國家政權罪判處5年徒刑，李明哲當庭表示接受判決也不會上訴，李明哲的妻子李凈瑜也到場親自聽判，她對判決會面對。陸委會和總統府也發表聲明，無法接受判決內容，呼籲北京當局儘速放人。\\n\\r\\n==中國法院宣判==\\r\\n被告人李明哲犯顛覆國家政權罪\\r\\n判處有期徒刑5年\\r\\n剝奪政治權利2年\\n\\r\\n面無表情聽著判決，台灣NGO工作者李明哲，28號遭到中國政府以顛覆國家政權判處五年徒刑，並剝奪政治權力2年，李明哲當庭認罪表示不會上訴。\\n\\r\\n==NGO工作者 李明哲==\\r\\n（被告人李明哲)\\r\\n（是否服從判決 是否上訴)\\r\\n服從判決 不上訴\\n\\r\\n李明哲已經在中國被羈押超過250天，28號一早中國岳陽中級人民法院9點15分開庭，李明哲妻子李凈瑜也到場親自聽判，神情嚴肅，隨後李明哲和彭宇華被帶進法庭，兩人都被認定以網路和聚會惡意攻擊中國政府，涉嫌顛覆國家政權，彭宇華被判7年，李明哲5年,兩人都服從法院判決，不到半小時宣判結束就被帶離法庭。\\n\\r\\n總統府表示，傳播民主理念無罪,分享民主自由理念,卻遭到中國大陸法院以「顛覆國家」這種罪名審判，「我們無法接受」，並呼籲北京當局早日放人讓李明哲儘速返台。而我陸委會則對宣判內容，也表示無法接受。\\n\\r\\n==陸委會發言人 邱垂正==\\r\\n我們對於這樣判決的結果\\r\\n我方各界沒有辦法接受\\r\\n與民主人權等普世價值\\r\\n也是完全背離的\\r\\n也勢必會對兩岸交流\\r\\n帶來嚴重的負面影響\\n\\r\\n李明哲也是首位被以顛覆國家政權罪判刑確定的境外人士，各界都相當關注，李明哲妻子李凈瑜表示追求理想必須付出代價，以李明哲為榮，坦然面對。\\n\\r\\n記者 綜合報導',\n",
       " '除了新北市之外其他五都，近來紛紛宣布從明年起、補助私立幼兒園學費，而且補助對象還向下延伸到2歲，今天有十多個教保民間團體召開記者會，抗議這種作法根本是變相買票，呼籲政府應多增設公幼或非營利幼兒園\\n\\r\\n高喊口號、手持標語，全台十多個幼教民間團體召開記者會，抗議除了新北市外的其他五都，近來相繼宣布將加碼補助私立幼兒園學費，完全是本末倒置的做法，不僅是變相買票拉攏家長，而且錢只會進入業者荷包，對於幼教薪資待遇提升很有限，也無法改善幼教品質。\\n\\r\\n==全國教保產業工會理事長 簡瑞連==\\r\\n業者對於這樣的補助進來以後\\r\\n它一樣超收\\r\\n我們所看到的法規1比15\\r\\n可是實質上我們更多的老師\\r\\n在現場都照顧1比20甚至25\\n\\r\\n民間團體調查發現，台北市3到4歲學齡前幼兒就讀私幼，可享有一年2.7萬元補助，預計兩年內，公托將增加25班，非營利幼兒園增加59班；桃園市私幼、一年可補助3萬元，公幼預計增加57班，非營利幼兒園增加25班；台中市私幼也是一年補助3萬元，公幼將增加38班，但非營利幼兒園只會增加4班；台南市一年補助3萬，公幼增加16班，非營利幼兒園增加16班；高雄市則是發放幼兒教育券，一年補助1萬，公幼預計只增加6班，非營利幼兒園則是21班。\\n\\r\\n==全教總幼委會主委 張馨仁==\\r\\n有錢可以加碼補助\\r\\n但是卻沒有錢\\r\\n去增設公共化的幼兒園\\r\\n這是讓人感到非常困惑的部分\\n\\r\\n幼教團體呼籲政府，應把錢花在刀口上，與其發放私幼補助，不如增設公幼或非營利幼兒園，而且每縣市應具體公布公幼的擴增數量，這樣才能真正減輕家長育兒的經濟負擔。\\n\\r\\n記者賴淑敏 吳嘉堡 台北報導',\n",
       " '台灣用很多的除草劑年年春，裡面的 嘉磷賽\"，被世界衛生組織認定為可能致癌物。由於\"嘉磷賽\"在歐洲的使用執照將在下個月15號到期，歐洲議會昨天表決通過，展延\"嘉磷賽\"的執照五年。\\n\\r\\n環保團體手持\"民主對抗嘉磷賽\"的標語，27號在比利時首都布魯塞爾，向歐洲議會施壓。\\n\\r\\n==示威民眾 舒瓦茲==\\r\\n民意希望能祭出禁令\\r\\n議會可以選擇\\r\\n支持孟山都和嘉磷賽\\r\\n還是回應民意\\n\\r\\n儘管場外施壓，還有130萬歐洲公民在網路上連署支持\"即刻祭出禁令\"，結果不如他們預期，歐洲議會表決通過，展延嘉磷賽在歐洲的使用執照五年。投票結果顯示，28個參與投票的會員國，有18票支持、9票反對、1票棄權。\\n\\r\\n\"嘉磷塞\"是孟山都發明生產的除草劑\"年年春\"的主要成分，40幾年來在國際間廣泛使用，不過2015年，被世界衛生組織認定為可能致癌物，兩年來爭議不斷；孟山都反對這項指控，並有多家研究機構，包括歐洲食品安全局提出反對意見，認為嘉磷塞和癌症沒有顯著相關性。\\n\\r\\n支持嘉磷塞的意見認為，農作物的生產成本可能增加；反對者則認為，它不只對身體有害，也和基改作物掛勾，對環境不友善。由於嘉磷塞的使用執照將在今年12月15號到期，歐盟被迫要盡快做出決定。孟山都提出申請，希望可以展延十年，歐洲議會則做出折衷決定。\\n\\r\\n記者 邱偉淳 整理報導',\n",
       " '雞蛋是否要制定農藥芬普尼殘留容許量？衛福部與農委會開跨部會專家會議，經過討論達成共識。考量蛋雞飼料進口的背景值，決議將芬普尼殘留容許量、放寬到10ppb，近日就會預告。\\n\\r\\n國內雞蛋多次被檢驗出殘留農藥芬普尼，引發消費者恐慌，衛福部食藥署、與農委會防檢局周一下午再度召開食品安全諮議聯席會，討論芬普尼是否制訂殘留容許量，農委會評估產業需求，希望能從現行\"零檢出\"，放寬到10ppb，與會學者專家也認為，若考量蛋雞飼料進口的背景值，放寬到10ppb是可接受的殘留量。\\n\\r\\n==台北榮總毒物科醫師 楊振昌==\\r\\n對我來說\\r\\n我覺得應該是勉強接受啦\\r\\n那當然我也是提出來有一些\\r\\n資料部分可能\\r\\n可以再做得更好一點\\n\\r\\n==成大環境毒物研究中心主任 李俊璋==\\r\\n在國外其實它會有殘留\\r\\n從它的雞肉 蛋\\r\\n其實它都有一個試驗的結果\\n\\r\\n此外專家會議也決議、紅豆、包葉菜類、茄子、小黃瓜及芒果等五種作物，禁用芬普尼水懸劑。\\n\\r\\n==食藥署食品組長 潘志寬==\\r\\n農委會在今年的9月6號\\r\\n它公告禁止4.95%的芬普尼水懸劑\\r\\n針對這樣子的禁用\\r\\n我們刪除了五種作物的殘留容許量\\n\\r\\n至於禽肉未來如何檢驗，在這次會議中則沒有討論，而這項新的芬普尼殘留容許量標準，近期就會預告，蒐集各方意見。\\n\\r\\n記者 賴淑敏 蔣龍祥 台北報導',\n",
       " '勞動法修法要鬆綁一例一休，將彈性工時交由勞資協商，不過，勞工團體則出面控訴，在修法前，已經有多個工會，正遭受資方打壓，包括美光工會和遠航空服員，有多位工會成員和幹部，遭到解雇。\\n\\r\\n勞工團體聲援遠東航空的空服員，抗議裁決委員會不公，日前，遠航工會爭取勞動條件過程，有17名員工遭到資遣，雖然透過勞工集體力量，讓17人順利復職，但工會將資遣事件送裁決後，裁決委員會則認定員工已全部復職，就不需認定公司違法情事，要求工會撤案，這樣的回應，讓工會無法接受。\\n\\r\\n==遠航工會 陳代表=\\r\\n像上禮拜 公司又持續在資遣會員\\r\\n在資方案件裡\\r\\n是裁決委員會偏頗\\r\\n讓公司更無視工會\\r\\n勞動部口口聲聲給勞工保障\\r\\n但我們真的感受不到\\n\\r\\n除了遠航，美光工會也面臨遭資方打壓的疑慮，工會理事長出面控訴，在和資方集勞動條件變化和工會會務的團體協商過程，他突然遭到解僱，批評這舉動，就會衝著工會而來。\\n\\r\\n==美光工會理事長 馮澤源==\\r\\n（資方)還一直要我\\r\\n交出工會會所的大門鑰匙\\r\\n這個東西\\r\\n不叫做違法的不當勞動行為\\r\\n什麼叫不當勞動行為\\n\\r\\n面對多個工會抗議，勞動部代表只接受陳情書，沒多做回應。\\n\\r\\n==勞動部裁決科長 章鴻年==\\r\\n這兩個陳情的案件\\r\\n都還在審理當中\\r\\n我不方便做任何的評論\\n\\r\\n在政府要放寬一例一休，將彈性工時，交由勞資協商的同時，勞工團體以這一件件工會遭打壓的案件，來反映勞資不對等困境。\\n\\r\\n記者 蔡慧玲 邱福財 台北報導']"
      ]
     },
     "execution_count": 69,
     "metadata": {},
     "output_type": "execute_result"
    }
   ],
   "source": [
    "# 世界快\n",
    "content_list = [get_content(get_page(title.get('href'))).get_text()\n",
    "               for title in title_list]\n",
    "content_list"
   ]
  }
 ],
 "metadata": {
  "kernelspec": {
   "display_name": "Python 3",
   "language": "python",
   "name": "python3"
  },
  "language_info": {
   "codemirror_mode": {
    "name": "ipython",
    "version": 3
   },
   "file_extension": ".py",
   "mimetype": "text/x-python",
   "name": "python",
   "nbconvert_exporter": "python",
   "pygments_lexer": "ipython3",
   "version": "3.6.2"
  }
 },
 "nbformat": 4,
 "nbformat_minor": 2
}
