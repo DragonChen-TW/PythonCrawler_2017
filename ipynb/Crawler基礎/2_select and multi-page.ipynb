{
 "cells": [
  {
   "cell_type": "markdown",
   "metadata": {},
   "source": [
    "# Crawler基礎－select、multi-page"
   ]
  },
  {
   "cell_type": "markdown",
   "metadata": {},
   "source": [
    "## 目錄\n",
    "- [select](#select)\n",
    "- [multi-page](#multiple-page)"
   ]
  },
  {
   "cell_type": "markdown",
   "metadata": {},
   "source": [
    "## 範例網站\n",
    "- 公視新聞 https://news.pts.org.tw/list/0\n",
    "- 練習網址 http://smalldragon-r.pancakeapps.com/some_news.html"
   ]
  },
  {
   "cell_type": "markdown",
   "metadata": {},
   "source": [
    "### select"
   ]
  },
  {
   "cell_type": "markdown",
   "metadata": {},
   "source": [
    "使用 css selector 來選取元素\n",
    "- [W3school - CSS_selector](https://www.w3schools.com/cssref/css_selectors.asp)"
   ]
  },
  {
   "cell_type": "code",
   "execution_count": 1,
   "metadata": {
    "collapsed": true
   },
   "outputs": [],
   "source": [
    "import requests\n",
    "from bs4 import BeautifulSoup"
   ]
  },
  {
   "cell_type": "code",
   "execution_count": 2,
   "metadata": {
    "collapsed": true
   },
   "outputs": [],
   "source": [
    "# 先把後面會用到的全域變數放在這裡\n",
    "url = \"http://pala.tw/class-id-example/\"\n",
    "headers = {'user-agent':'Safari'}"
   ]
  },
  {
   "cell_type": "code",
   "execution_count": 3,
   "metadata": {
    "collapsed": true
   },
   "outputs": [],
   "source": [
    "res = requests.get(url)\n",
    "soup = BeautifulSoup(res.text,'html.parser')"
   ]
  },
  {
   "cell_type": "code",
   "execution_count": 4,
   "metadata": {},
   "outputs": [
    {
     "data": {
      "text/plain": [
       "[<p class=\"無糖 微冰 鐵觀音\" id=\"Pala\">Pala的無糖微冰鐵觀音</p>]"
      ]
     },
     "execution_count": 4,
     "metadata": {},
     "output_type": "execute_result"
    }
   ],
   "source": [
    "# 使用 css selector 搜尋\n",
    "found_list = soup.select('#Pala')\n",
    "             #soup.find(id='Pala')\n",
    "found_list"
   ]
  },
  {
   "cell_type": "code",
   "execution_count": 5,
   "metadata": {},
   "outputs": [
    {
     "data": {
      "text/plain": [
       "[<p class=\"半糖 去冰 珍珠 奶茶\" id=\"老闆\">老闆的半糖去冰珍珠奶茶</p>,\n",
       " <p class=\"無糖 去冰 綠茶\" id=\"資深前輩\">資深前輩的無糖去冰綠茶</p>,\n",
       " <p class=\"半糖 去冰 文山青茶\" id=\"心儀同事\">心儀同事的半糖去冰文山青茶</p>]"
      ]
     },
     "execution_count": 5,
     "metadata": {},
     "output_type": "execute_result"
    }
   ],
   "source": [
    "# select 不論結果是一個或是多個\n",
    "# 都會用 list 回傳\n",
    "found_list = soup.select('.去冰')\n",
    "found_list"
   ]
  },
  {
   "cell_type": "code",
   "execution_count": 6,
   "metadata": {},
   "outputs": [
    {
     "data": {
      "text/plain": [
       "['老闆的半糖去冰珍珠奶茶', '資深前輩的無糖去冰綠茶', '心儀同事的半糖去冰文山青茶']"
      ]
     },
     "execution_count": 6,
     "metadata": {},
     "output_type": "execute_result"
    }
   ],
   "source": [
    "# 把需要的字串擷取出來\n",
    "str_list = [each.string for each in found_list]\n",
    "str_list"
   ]
  },
  {
   "cell_type": "code",
   "execution_count": 7,
   "metadata": {},
   "outputs": [
    {
     "data": {
      "text/plain": [
       "['老闆', '資深前輩', '心儀同事']"
      ]
     },
     "execution_count": 7,
     "metadata": {},
     "output_type": "execute_result"
    }
   ],
   "source": [
    "# 取出特別的屬性\n",
    "get_list = [each.get('id') for each in found_list]\n",
    "get_list"
   ]
  },
  {
   "cell_type": "markdown",
   "metadata": {
    "collapsed": true
   },
   "source": [
    "解析HTML的方法差不多就到這裡\n",
    "常用的三種解析方法：\n",
    "1. 套件內建的function\n",
    "2. css selector\n",
    "3. Xpath\n",
    "有需要可以再自己上網學習"
   ]
  },
  {
   "cell_type": "markdown",
   "metadata": {
    "collapsed": true
   },
   "source": [
    "## multiple-page"
   ]
  },
  {
   "cell_type": "markdown",
   "metadata": {
    "collapsed": true
   },
   "source": [
    "如果多練習幾次爬蟲，多使用requests和bs套件  \n",
    "你會發現他有一些固定的規律  \n",
    "如果我們想要一次性多抓取一些頁面  \n",
    "就很適合設計成function  \n",
    "讓程式碼變的簡潔"
   ]
  },
  {
   "cell_type": "code",
   "execution_count": 8,
   "metadata": {
    "collapsed": true
   },
   "outputs": [],
   "source": [
    "# 把 url 傳進來\n",
    "# 用 requests 抓取後 回傳原始碼\n",
    "def get_page(url):\n",
    "    head = {'user-agent':'Safari'}\n",
    "    res = requests.get(url,headers=head)\n",
    "    return(res.text)"
   ]
  },
  {
   "cell_type": "code",
   "execution_count": 9,
   "metadata": {
    "collapsed": true
   },
   "outputs": [],
   "source": [
    "# 先用 temp 抓取到所有新聞的網頁原始碼\n",
    "temp = get_page('https://news.pts.org.tw/list/0')"
   ]
  },
  {
   "cell_type": "code",
   "execution_count": 10,
   "metadata": {
    "scrolled": false
   },
   "outputs": [
    {
     "data": {
      "text/plain": [
       "[<a href=\"https://news.pts.org.tw/article/378812\">不滿勞基法再修法 勞團赴立院抗議</a>,\n",
       " <a href=\"https://news.pts.org.tw/article/378813\">勞基法修法續審 綠提限時發言爆衝突</a>,\n",
       " <a href=\"https://news.pts.org.tw/article/378814\">修法縮時輪班間隔 護理人員首當其衝</a>,\n",
       " <a href=\"https://news.pts.org.tw/article/378815\">入夜後氣溫驟降 北部明低溫下探13度</a>,\n",
       " <a href=\"https://news.pts.org.tw/article/378816\">疑受洋流影響 幻象戰機黑盒子訊號消失</a>,\n",
       " <a href=\"https://news.pts.org.tw/article/378817\">\"王祿仔場\"推銷保健品害健康 衛局取締</a>,\n",
       " <a href=\"https://news.pts.org.tw/article/378818\">世界大學專業領域排名 台僅\"教育\"勝中國</a>,\n",
       " <a href=\"https://news.pts.org.tw/article/378819\">訂單銳減石斑價格崩盤 轉養又生產過剩</a>,\n",
       " <a href=\"https://news.pts.org.tw/article/378820\">整頓\"蚊子港\" 漁業署擬協助轉型或廢港</a>,\n",
       " <a href=\"https://news.pts.org.tw/article/378821\">新南向重大進展 台菲投保協定可望重簽</a>,\n",
       " <a href=\"https://news.pts.org.tw/article/378822\">美韓空中聯合軍事演習 規模史上最大</a>,\n",
       " <a href=\"https://news.pts.org.tw/article/378823\">日又發現北韓漂流木造船 船上3人死</a>,\n",
       " <a href=\"https://news.pts.org.tw/article/378824\">法商登革熱疫苗 未感染者施打恐發病</a>,\n",
       " <a href=\"https://news.pts.org.tw/article/378825\">香港\"反威權大遊行\" 聲援被囚社運人士</a>]"
      ]
     },
     "execution_count": 10,
     "metadata": {},
     "output_type": "execute_result"
    }
   ],
   "source": [
    "# 利用 bs 選出 title 做成 list\n",
    "soup = BeautifulSoup(temp,'html.parser')\n",
    "title_list = soup.find_all(class_='list-news-title') \n",
    "title_list = [each.find('a') for each in title_list]\n",
    "title_list"
   ]
  },
  {
   "cell_type": "code",
   "execution_count": 11,
   "metadata": {},
   "outputs": [
    {
     "data": {
      "text/plain": [
       "[<a href=\"https://news.pts.org.tw/article/378812\">不滿勞基法再修法 勞團赴立院抗議</a>,\n",
       " <a href=\"https://news.pts.org.tw/article/378813\">勞基法修法續審 綠提限時發言爆衝突</a>,\n",
       " <a href=\"https://news.pts.org.tw/article/378814\">修法縮時輪班間隔 護理人員首當其衝</a>,\n",
       " <a href=\"https://news.pts.org.tw/article/378815\">入夜後氣溫驟降 北部明低溫下探13度</a>,\n",
       " <a href=\"https://news.pts.org.tw/article/378816\">疑受洋流影響 幻象戰機黑盒子訊號消失</a>]"
      ]
     },
     "execution_count": 11,
     "metadata": {},
     "output_type": "execute_result"
    }
   ],
   "source": [
    "# 選到了 我們用前五個就好\n",
    "title_list = title_list[0:5]\n",
    "title_list"
   ]
  },
  {
   "cell_type": "code",
   "execution_count": 12,
   "metadata": {
    "collapsed": true
   },
   "outputs": [],
   "source": [
    "# 先創個 out 資料夾\n",
    "from os import makedirs\n",
    "makedirs('out',exist_ok=True)"
   ]
  },
  {
   "cell_type": "code",
   "execution_count": 13,
   "metadata": {
    "collapsed": true
   },
   "outputs": [],
   "source": [
    "for title in title_list:\n",
    "    res = get_page(title.get('href'))\n",
    "    \n",
    "    file_name = 'out/' + title.string + '.html'\n",
    "    html = open(file_name,'w')\n",
    "    html.write(res)\n",
    "    html.close()"
   ]
  },
  {
   "cell_type": "code",
   "execution_count": 14,
   "metadata": {
    "collapsed": true
   },
   "outputs": [],
   "source": [
    "# 利用get_page函式 存每個頁面\n",
    "for title in title_list:\n",
    "    res = get_page(title.get('href'))\n",
    "    \n",
    "    file_name = 'out/' + title.string + '.html'\n",
    "    html = open(file_name,'w')\n",
    "    html.write(res)\n",
    "    html.close()"
   ]
  },
  {
   "cell_type": "code",
   "execution_count": 15,
   "metadata": {
    "collapsed": true
   },
   "outputs": [],
   "source": [
    "# 再來寫個負責parser的func吧!\n",
    "def get_content(html):\n",
    "    soup = BeautifulSoup(html,'html.parser')\n",
    "    \n",
    "    content = soup.find(class_='article-content')\n",
    "    \n",
    "    return(content)"
   ]
  },
  {
   "cell_type": "code",
   "execution_count": 16,
   "metadata": {
    "collapsed": true
   },
   "outputs": [],
   "source": [
    "for title in title_list:\n",
    "    file_name = 'out/' + title.string\n",
    "    \n",
    "    html = open(file_name + '.html','r')\n",
    "    content = get_content(html.read())\n",
    "    html.close()\n",
    "    \n",
    "    txt = open(file_name + '.txt','w')\n",
    "    txt.write(content.get_text())\n",
    "    txt.close()"
   ]
  },
  {
   "cell_type": "code",
   "execution_count": 17,
   "metadata": {
    "collapsed": true
   },
   "outputs": [],
   "source": [
    "for title in title_list:\n",
    "    file_name = 'out/' + title.string\n",
    "    \n",
    "    html = open(file_name + '.html','r')\n",
    "    content = get_content(html.read())\n",
    "    html.close()\n",
    "    \n",
    "    txt = open(file_name + '.txt','w')\n",
    "    txt.write(content.get_text())\n",
    "    txt.close()"
   ]
  },
  {
   "cell_type": "code",
   "execution_count": 18,
   "metadata": {},
   "outputs": [
    {
     "name": "stdout",
     "output_type": "stream",
     "text": [
      "一例一休勞基法修法草案，今天再度闖關，上百名勞工團體代表，一早就在立法院外高喊抗\n",
      "\n",
      "一例一休修法今天在立法院續審，一早朝野立委就因為發言時間被限縮為4+2分鐘，而上\n",
      "\n",
      "勞基法修正草案在立法院審查，場內外都爆發衝突，這次修法打算鬆綁七休一、輪班間隔有\n",
      "\n",
      "\n",
      "\n",
      "受東北季風影響，今天入夜後氣溫將逐漸下降，明天北部低溫下探13度，中南部1\n",
      "\n",
      "\n",
      "空軍飛官何子雨駕駛幻象2000戰機失聯，已經快一個月，由於海象不佳，搜救進度\n",
      "\n"
     ]
    }
   ],
   "source": [
    "# 更快速的方法 不存成檔案 直接放到parser裡面\n",
    "for title in title_list:\n",
    "    html = get_page(title.get('href'))\n",
    "    content = get_content(html)\n",
    "    \n",
    "    print(content.get_text()[0:40])\n",
    "    print()"
   ]
  },
  {
   "cell_type": "code",
   "execution_count": 19,
   "metadata": {},
   "outputs": [
    {
     "data": {
      "text/plain": [
       "['一例一休勞基法修法草案，今天再度闖關，上百名勞工團體代表，一早就在立法院外高喊抗議口號。中午，勞團三度試圖闖入立院，與警方爆發多次衝突，場面相當混亂。勞團表示，為了擋下修法，已經做好長期抗戰準備，揚言法案審到幾點，就在外面守到幾點，不會離開。\\n\\r\\n拉扯、推擠，喊了一上午的口號，接近中午，勞團代表再也壓不住對例休修法的不滿情緒，一股腦兒的想突破警方封鎖，從群賢樓衝進立法院。\\n\\r\\n警方不敢大意，除了早已用拒馬、柵欄封住立院周遭，也出動了三個分局，共550警力與霹靂小組戒備，一路將勞團與立法院隔開。\\n\\r\\n一陣衝突過後，勞團號召群眾，繞行立法院表達訴求，近下午1點，又爆發第二波與第三波衝撞立院行動，過程中，不少人因此跌倒在地，現場一片混亂。\\n\\r\\n希望在立院裡面的立委，聽到他們的訴求，因為這回修法，放寬七休一、提高加班上限、並縮短輪班間隔時間到8小時，三大方向，只會加重勞工過勞。而且就算政府宣稱有勞資協商、事業主管機關等單位的層層把關，根據過往案例，都只是虛設。\\n\\r\\n美光工會理事長馮澤源表示：「團體協商的前兩個小時，我就被資遣，公司只要把你一個理事長，或那個瓦解掉，讓其他的工會會員，工會幹部的整個信心崩潰，公司就達到這些目的了。」\\n\\r\\n宜蘭縣產業總工會祕書長陳姳臻表示：「勞資協商的部分是擺在優於勞基法，或更高的勞動條件上面，可以使用的一個規則，而不是勞資協商把所有的基礎，跟原則（勞基法）都架空。」\\n\\r\\n經過中午3波衝突後，勞團暫時休息，並由各工會代表依序論述，而為了擋下修法，他們說，已做好長期抗戰準備，法案審到幾點，就在外面守到幾點，不會離開。\\n\\r\\n記者 綜合報導。',\n",
       " '一例一休修法今天在立法院續審，一早朝野立委就因為發言時間被限縮為4+2分鐘，而上演全武行。下午推擠衝突還是持續，國民黨和時代力量立委想佔住發言台，也被民進黨立委以人數優勢通通排除。混亂中，召委林靜儀宣布將勞基法24條送交院會討論，強行表決通過。接下來會議要持續到半夜，民進黨力拼闖關成功。\\n\\r\\n立法院喇叭被摔成碎片，混亂中女立委手被抓傷需要醫護人員，勞基法例休修法四號續審，一早，朝野朝野立委就爆發多次肢體衝突，議事不斷停止。\\n\\r\\n民進黨立委邱志偉提出權宜問題，限制發言時間為4+2分鐘，防止冗長發言影響議事，民進黨以多數表決通過，引發在野黨抗議。國民黨和時代力量立委，輪流佔住發言台，因為超過發言時間，徐永明、蔣萬安等人都被民進黨立委拉下台。\\n\\r\\n「全部保留，送黨團協商。」混亂中，召委林靜儀宣布停止動議，並且將勞基法第24條，休息日加班費的計算，送交院會討論，隨即進行表決，民進黨以人數優勢通過。\\n\\r\\n時代力量立委徐永明則表示：「比張慶忠還不如啊。」\\n\\r\\n和上次修法相比，這次續審較有進展，似乎是呼應行政院長賴清德，早上接受媒體專訪時提到，已經和民進黨團達成共識，將輪班間隔例外8小時的把關機制入法有關，而賴清德也強調，修法是奉蔡英文總統照顧勞工的指示，他身為行政院長，責無旁貸。\\n\\r\\n行政院長賴清德表示：「本來今天出委員會之後，有一個月的協商期，也沒有時間表呀，我行政院長怎麼敢去訂一個時間表，讓立法院來通過。」\\n\\r\\n雖然賴清德強調，何時三讀通過沒有時間表，不過這次續審，因為有限制發言時間，民進黨立委在衝突與口角中推進議事，並讓會議持續到今天午夜12點，要力拚勞基法修正草案，本周送出委員會。\\n\\r\\n記者 韓瑩 陳柏諭 謝其文 台北報導',\n",
       " '勞基法修正草案在立法院審查，場內外都爆發衝突，這次修法打算鬆綁七休一、輪班間隔有條件縮回8小時，如果過關，首當其衝恐怕是護理人員。不少護理人員輪流要上白天班、小夜班、大夜班，上班時間不固定，被稱為「花花班表」。有護理人員甚至休假日也要接受培訓，還有人連續12天無法休息，他們十分擔憂如果通過修法，過勞問題只會更嚴重。\\n\\r\\n「我今天來醫院，是要來辦離職證明。」拿著剛申請到的離職證明書，護理師郭小姐，決定結束爆肝生活。當初應徵時雖然接受一邊上班、一邊接受醫院培訓的條件，可是卻發生過三次，周六上完4小時的課，才相隔三小時，就要接著輪值急診室大夜班，從晚上八點上到隔天早上八點，然後沒有休息，繼續上周日上午八點到傍晚五點半的培訓課。累到無法負荷，寧可辭職，也不願把過勞風險加諸在病人身上。\\n\\r\\n離職護理師郭小姐表示：「你需要很靜心很專注去摸那脈搏，跟找、看血管的時候，是比較容易發散（渙散）的，我其實以為我能夠撐得過來，但上了兩個禮拜之後，我覺得我真的快不行了。」\\n\\r\\n上班還要兼顧進修、實習，是護理界普遍現象，決定辭職的郭小姐還不是最慘的，立委林淑芬指出，近日北醫發生護理人員猝死，則連續12天無法休息，護理人員一下子要上白天班，一下子又要上大小夜班，上班時間不固定，業界稱為「花花班表」。雖然連續12天沒得喘息可能是極端案例，但勞基法修正案若過關，恐怕會讓極端工時合法化。\\n\\r\\n台灣護理產業工會理事梁秀眉表示：「花花班非常的常見，一個禮拜裡面有大夜小夜白班，我們的生理時鐘，一下子要白天睡覺，一下子是晚上睡覺，其實護理人員根本睡不好。」\\n\\r\\n郭小姐服務的醫院則回應，周六日白天培訓，晚上卡了大夜班，確實發生過，但只有一次，未來會特別注意並避免。但護理人員認為要保障不過勞，不能只靠院方、業界自律，因此還是反對勞基法有條件縮短輪班間隔八小時，壓縮喘息時間。\\n\\r\\n記者 黃怡菁 郭俊麟 台北報導',\n",
       " '\\n\\r\\n受東北季風影響，今天入夜後氣溫將逐漸下降，明天北部低溫下探13度，中南部15度。環保署也提醒，東北季風將挾帶境外汙染物來襲，今天傍晚開始，台灣由北而南，空氣品質都會逐漸受影響，這波汙染預估持續到明天上半天。\\n\\r\\n==VCR==\\r\\n東北季風報到，來自中國的境外空汙又來報到! 從傍晚開始，北台灣首當其衝，環保署估計，北部地區在傍晚到深夜這段時間，PM2.5小時濃度可能來到80到90微克的紅害等級，而這一波汙將在入夜後一路往南擴散。\\n\\r\\n==環保署環境監測資訊處長 張順欽==\\r\\n影響的時間預估\\r\\n大概是今天4號入夜之後\\r\\n到5號的清晨到中午之前這段時間\\r\\n那影響大概是\\r\\n北部會受到一些影響\\r\\n接著大概是到中部\\r\\n對南部的影響比較不是太大\\n\\r\\n環保署提醒，環保署網站上顯示的空氣品質燈號，是平均值，民眾要掌握當下的情況，要留意PM2.5\"小時濃度\"，只要數值大於35就來到不利敏感族群的橘色等級。除了空汙，民眾也要注意低溫，氣象局指出，這一周將有兩波大陸冷氣團報到，第一波影響在周一入夜後，周二低溫會下探攝氏13度。\\n\\r\\n==氣象預報員 程川芳==\\r\\n最冷的時間點會是出現在\\r\\n明天晚上到後天的清晨\\r\\n那明天晚上到後天清晨的時候\\r\\n中部以北的低溫\\r\\n有可能來到13度14度\\n\\r\\n周四氣溫將稍微回升，但周五開始又有新一波大陸冷氣團報到，強度類似，但夾帶水氣，玉山、合歡山可能降雪，周末受到這一波東北季風影響，北部低溫13度，中南部15度，下周一後還會有另一波東北季風接力報到，但目前各預報模式的時間點還有歧異\\n\\r\\n記者薛宜家 林志堅 台北報導 \\n\\n',\n",
       " '\\r\\n空軍飛官何子雨駕駛幻象2000戰機失聯，已經快一個月，由於海象不佳，搜救進度受影響。空軍參謀長鄭榮豐、今天在立法院證實，戰機的黑盒子訊號、可能受海流影響，目前暫時消失。不過空軍強調，負責打撈的廠商，曾經在沒有訊號的情況下完成任務，只要海象轉好，就會出海搜尋。\\n\\r\\n停在基隆港西26號碼頭，奧黛麗絲號測量船隨著波浪、左右搖晃，這幾天，海上風浪實在太大，無法出海搜尋失聯的幻象2000戰機，但相關設備與機具都已經準備完畢，等到海象轉好，就能出海搜尋。\\n\\r\\n==國防部長 馮世寬==\\r\\n譬如說應該是5級風以內\\r\\n現在都是7級風 他沒辦法作業\\r\\n在這裡我們也非常期望\\r\\n天氣能夠好 能夠盡快的\\r\\n把這件事能夠做完\\r\\n那麼找到這個幻象機\\r\\n使我們能夠找出\\r\\n這次失事的原因\\n\\n\\r\\n軍方證實，原先標定的失聯戰機，黑盒子訊號暫時消失，也強調，目前黑盒子電力應該還沒用完，推測可能是因為洋流因素所造成。\\n\\r\\n==民進黨立委 王定宇 vs. 空軍參謀長 鄭榮豐==\\r\\n所以那個訊號會被海流影響到\\r\\n但是我們即便沒有訊號\\r\\n還是可以用聲納來搜索\\r\\n銓日儀公司回報的狀況\\r\\n你覺得至少找到\\r\\n黑盒子的機會大不大\\r\\n因為他之前也有過經驗\\r\\n那也是在沒有訊號的情況下\\r\\n有搜索過 應該是有機會\\n\\n\\r\\n軍方規劃，分成搜尋定位及打撈運輸兩個階段執行搜救任務，奧黛麗絲號11月27日就曾出海，不過海象不好、風浪太大，29號返回基隆港，而軍方透露，依目前海象狀況推測，最快可能要到6號周三，才有機會出海搜救。\\n\\r\\n記者 張志雄 陳立峰 台北基隆報導\\n\\n']"
      ]
     },
     "execution_count": 19,
     "metadata": {},
     "output_type": "execute_result"
    }
   ],
   "source": [
    "# 世界快\n",
    "content_list = [get_content(get_page(title.get('href'))).get_text()\n",
    "               for title in title_list]\n",
    "content_list"
   ]
  }
 ],
 "metadata": {
  "kernelspec": {
   "display_name": "Python 3",
   "language": "python",
   "name": "python3"
  },
  "language_info": {
   "codemirror_mode": {
    "name": "ipython",
    "version": 3
   },
   "file_extension": ".py",
   "mimetype": "text/x-python",
   "name": "python",
   "nbconvert_exporter": "python",
   "pygments_lexer": "ipython3",
   "version": "3.6.2"
  }
 },
 "nbformat": 4,
 "nbformat_minor": 2
}
