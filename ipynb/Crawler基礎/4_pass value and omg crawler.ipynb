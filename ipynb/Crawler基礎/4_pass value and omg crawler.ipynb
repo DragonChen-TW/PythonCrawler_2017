{
 "cells": [
  {
   "cell_type": "markdown",
   "metadata": {},
   "source": [
    "# Crawler基礎－requests傳值、爬取圖片"
   ]
  },
  {
   "cell_type": "markdown",
   "metadata": {},
   "source": [
    "## 目錄\n",
    "- [GET 傳值](#GET-傳值)  \n",
    "- [POST 傳值](#POST-傳值)\n",
    "- [抓取圖片](#抓取圖片)"
   ]
  },
  {
   "cell_type": "markdown",
   "metadata": {},
   "source": [
    "## 範例網站\n",
    "- 檢驗GET http://httpbin.org/get\n",
    "- 檢驗POST http://httpbin.org/post\n",
    "- 大量圖片網站 https://www.istockphoto.com/photos/parkour"
   ]
  },
  {
   "cell_type": "code",
   "execution_count": 1,
   "metadata": {
    "collapsed": true
   },
   "outputs": [],
   "source": [
    "import requests"
   ]
  },
  {
   "cell_type": "markdown",
   "metadata": {},
   "source": [
    "## GET 傳值"
   ]
  },
  {
   "cell_type": "markdown",
   "metadata": {},
   "source": [
    "GET傳值兩種方法：\n",
    "1. 用 url 傳送(使用 ?、& 連接)\n",
    "2. 用參數傳送"
   ]
  },
  {
   "cell_type": "markdown",
   "metadata": {},
   "source": [
    "### 用 url"
   ]
  },
  {
   "cell_type": "code",
   "execution_count": 2,
   "metadata": {},
   "outputs": [],
   "source": [
    "# 在網址後面使用 ? 和 & 傳送\n",
    "res = requests.get('http://httpbin.org/get?a=apple&b=banana')"
   ]
  },
  {
   "cell_type": "code",
   "execution_count": 3,
   "metadata": {},
   "outputs": [
    {
     "data": {
      "text/plain": [
       "{'args': {'a': 'apple', 'b': 'banana'},\n",
       " 'headers': {'Accept': '*/*',\n",
       "  'Accept-Encoding': 'gzip, deflate',\n",
       "  'Connection': 'close',\n",
       "  'Host': 'httpbin.org',\n",
       "  'User-Agent': 'python-requests/2.18.4'},\n",
       " 'origin': '140.117.178.29',\n",
       " 'url': 'http://httpbin.org/get?a=apple&b=banana'}"
      ]
     },
     "execution_count": 3,
     "metadata": {},
     "output_type": "execute_result"
    }
   ],
   "source": [
    "# 把回傳的json印出來\n",
    "# 可以看到 args 已經得到我們傳入的數值\n",
    "res.json()"
   ]
  },
  {
   "cell_type": "markdown",
   "metadata": {},
   "source": [
    "### 用參數傳送"
   ]
  },
  {
   "cell_type": "code",
   "execution_count": 4,
   "metadata": {
    "collapsed": true
   },
   "outputs": [],
   "source": [
    "# 也可以輸入 python 變數\n",
    "data = {'c':'cocoa','d':'delete'}\n",
    "res = requests.get('http://httpbin.org/get',data)"
   ]
  },
  {
   "cell_type": "code",
   "execution_count": 5,
   "metadata": {},
   "outputs": [
    {
     "data": {
      "text/plain": [
       "{'args': {'c': 'cocoa', 'd': 'delete'},\n",
       " 'headers': {'Accept': '*/*',\n",
       "  'Accept-Encoding': 'gzip, deflate',\n",
       "  'Connection': 'close',\n",
       "  'Host': 'httpbin.org',\n",
       "  'User-Agent': 'python-requests/2.18.4'},\n",
       " 'origin': '140.117.178.29',\n",
       " 'url': 'http://httpbin.org/get?c=cocoa&d=delete'}"
      ]
     },
     "execution_count": 5,
     "metadata": {},
     "output_type": "execute_result"
    }
   ],
   "source": [
    "# 一樣看到 args 獲得資料\n",
    "res.json()"
   ]
  },
  {
   "cell_type": "markdown",
   "metadata": {},
   "source": [
    "## POST 傳值"
   ]
  },
  {
   "cell_type": "markdown",
   "metadata": {},
   "source": [
    "POST 的話可以透過以下兩種方式傳送：\n",
    "1. HTML 的 < form > 標籤\n",
    "2. requests.post 傳送data"
   ]
  },
  {
   "cell_type": "code",
   "execution_count": 6,
   "metadata": {
    "collapsed": true
   },
   "outputs": [],
   "source": [
    "# 和 get 傳送變數一樣\n",
    "# 記得使用requests.post函式\n",
    "data = {'e':'elephant','s':'song'}\n",
    "res = requests.post('http://httpbin.org/post',data)"
   ]
  },
  {
   "cell_type": "code",
   "execution_count": 7,
   "metadata": {},
   "outputs": [
    {
     "data": {
      "text/plain": [
       "{'args': {},\n",
       " 'data': '',\n",
       " 'files': {},\n",
       " 'form': {'e': 'elephant', 's': 'song'},\n",
       " 'headers': {'Accept': '*/*',\n",
       "  'Accept-Encoding': 'gzip, deflate',\n",
       "  'Connection': 'close',\n",
       "  'Content-Length': '17',\n",
       "  'Content-Type': 'application/x-www-form-urlencoded',\n",
       "  'Host': 'httpbin.org',\n",
       "  'User-Agent': 'python-requests/2.18.4'},\n",
       " 'json': None,\n",
       " 'origin': '140.117.178.29',\n",
       " 'url': 'http://httpbin.org/post'}"
      ]
     },
     "execution_count": 7,
     "metadata": {},
     "output_type": "execute_result"
    }
   ],
   "source": [
    "# 可以觀察到 form 接收到了我們的資料\n",
    "res.json()"
   ]
  },
  {
   "cell_type": "markdown",
   "metadata": {},
   "source": [
    "## 抓取圖片"
   ]
  },
  {
   "cell_type": "code",
   "execution_count": 8,
   "metadata": {
    "collapsed": true
   },
   "outputs": [],
   "source": [
    "from bs4 import BeautifulSoup"
   ]
  },
  {
   "cell_type": "code",
   "execution_count": 9,
   "metadata": {},
   "outputs": [],
   "source": [
    "# 先創個放照片的資料夾\n",
    "from os import makedirs\n",
    "makedirs('pic/',exist_ok=True)"
   ]
  },
  {
   "cell_type": "markdown",
   "metadata": {},
   "source": [
    "### 單一圖片"
   ]
  },
  {
   "cell_type": "markdown",
   "metadata": {},
   "source": [
    "- 示範圖片 http://www.nsysu.edu.tw/ezfiles/0/1000/gallery/9/509/gallery_509_9271250_63619.jpg"
   ]
  },
  {
   "cell_type": "code",
   "execution_count": 10,
   "metadata": {
    "collapsed": true
   },
   "outputs": [],
   "source": [
    "url = 'http://www.nsysu.edu.tw/ezfiles/0/1000/gallery/9/509/gallery_509_9271250_63619.jpg'"
   ]
  },
  {
   "cell_type": "code",
   "execution_count": 11,
   "metadata": {
    "collapsed": true
   },
   "outputs": [],
   "source": [
    "# 利用 requests 幫我們獲得這張圖片\n",
    "res = requests.get(url)"
   ]
  },
  {
   "cell_type": "code",
   "execution_count": 12,
   "metadata": {},
   "outputs": [
    {
     "data": {
      "text/plain": [
       "b'\\xff\\xd8\\xff\\xe0\\x00\\x10JFIF\\x00\\x01\\x01\\x01\\x00`\\x00`\\x00\\x00\\xff\\xdb\\x00C\\x00\\x01\\x01\\x01\\x01\\x01\\x01\\x01\\x01\\x01\\x01\\x01\\x01\\x01\\x01\\x01\\x01\\x01\\x01\\x01\\x01\\x01\\x01\\x01\\x01\\x01\\x01\\x01\\x01\\x01\\x01\\x01\\x01\\x01\\x01\\x01\\x01\\x01\\x01\\x01\\x01\\x01\\x01\\x01\\x01\\x01\\x01\\x01\\x01\\x01\\x01\\x01\\x01\\x01\\x01\\x01\\x01\\x01\\x01\\x01\\x01\\x01\\x01\\x01\\x01\\xff\\xdb\\x00C\\x01\\x01\\x01\\x01\\x01\\x01\\x01'"
      ]
     },
     "execution_count": 12,
     "metadata": {},
     "output_type": "execute_result"
    }
   ],
   "source": [
    "# request完之後 使用.content獲得圖片的原始編碼\n",
    "res.content[0:100]"
   ]
  },
  {
   "cell_type": "code",
   "execution_count": 13,
   "metadata": {},
   "outputs": [
    {
     "data": {
      "text/plain": [
       "bytes"
      ]
     },
     "execution_count": 13,
     "metadata": {},
     "output_type": "execute_result"
    }
   ],
   "source": [
    "# 是一種很特別的 二進位\n",
    "type(res.content)"
   ]
  },
  {
   "cell_type": "code",
   "execution_count": 14,
   "metadata": {},
   "outputs": [],
   "source": [
    "# 開啟一個 jpg 檔案\n",
    "# 模式使用 w 來寫入 b 代表 binary 二進位\n",
    "# 使用 write 把 content 寫進去\n",
    "jpg = open('pic/nsysu.jpg','wb')\n",
    "jpg.write(res.content)\n",
    "jpg.close()"
   ]
  },
  {
   "cell_type": "markdown",
   "metadata": {},
   "source": [
    "### 同時抓取大量圖片"
   ]
  },
  {
   "cell_type": "markdown",
   "metadata": {},
   "source": [
    "抓取圖片可以結合我們之前學到的 multiple-page  \n",
    "一次抓取大量圖片 下載到電腦裡面\n",
    "不過網站要是靜態的才可以（instagram flickr是動態的）\n",
    "所以我們來實做看看吧\n",
    "EX: ptt Beauty、部落格相簿、論壇貼圖版"
   ]
  },
  {
   "cell_type": "markdown",
   "metadata": {},
   "source": [
    "這裡以一個圖片網站為例  \n",
    "叫做 istockphoto"
   ]
  },
  {
   "cell_type": "code",
   "execution_count": 15,
   "metadata": {},
   "outputs": [],
   "source": [
    "# 到網站獲得所有原始碼\n",
    "# 發送 request 請求、放到 html 解析器裡\n",
    "url = 'https://www.istockphoto.com/photos/parkour'\n",
    "res = requests.get(url)\n",
    "soup = BeautifulSoup(res.text,'html.parser')"
   ]
  },
  {
   "cell_type": "code",
   "execution_count": 16,
   "metadata": {},
   "outputs": [
    {
     "data": {
      "text/plain": [
       "81"
      ]
     },
     "execution_count": 16,
     "metadata": {},
     "output_type": "execute_result"
    }
   ],
   "source": [
    "# 使用 find_all 找出所有的 img 標籤\n",
    "# 看看找到多少個\n",
    "img_list = soup.find_all('img')\n",
    "len(img_list)"
   ]
  },
  {
   "cell_type": "code",
   "execution_count": 17,
   "metadata": {},
   "outputs": [
    {
     "name": "stdout",
     "output_type": "stream",
     "text": [
      "https://media.istockphoto.com/photos/young-man-practicing-parkour-in-the-city-picture-id485321190?k=6&m=485321190&s=612x612&w=0&h=U4vRAwlYayoWtU9YhPBhOr9rN1e1LW1-lbjsSrO9EIE=\n",
      "https://media.istockphoto.com/photos/risky-man-jumping-picture-id513823595?k=6&m=513823595&s=612x612&w=0&h=LzCRYBp-1FPreaYwyt-WEHerL54gftMtVKK_4awmSHY=\n",
      "https://media.istockphoto.com/photos/sporty-woman-outdoors-picture-id541986736?k=6&m=541986736&s=612x612&w=0&h=-0xtE5UcXIpJUuP-nxu-g6zbg-2_FuG7B6yJ5u07X-k=\n"
     ]
    }
   ],
   "source": [
    "# 我們可以從 img_list 裡面使用 .get('src')\n",
    "# 取出圖片網址\n",
    "for i in range(32,35):\n",
    "    print(img_list[i].get('src'))"
   ]
  },
  {
   "cell_type": "code",
   "execution_count": 18,
   "metadata": {},
   "outputs": [
    {
     "data": {
      "text/html": [
       "<img src=\"https://media.istockphoto.com/photos/young-man-practicing-parkour-in-the-city-picture-id485321190?k=6&m=485321190&s=612x612&w=0&h=U4vRAwlYayoWtU9YhPBhOr9rN1e1LW1-lbjsSrO9EIE=\"/>"
      ],
      "text/plain": [
       "<IPython.core.display.Image object>"
      ]
     },
     "metadata": {},
     "output_type": "display_data"
    },
    {
     "data": {
      "text/html": [
       "<img src=\"https://media.istockphoto.com/photos/risky-man-jumping-picture-id513823595?k=6&m=513823595&s=612x612&w=0&h=LzCRYBp-1FPreaYwyt-WEHerL54gftMtVKK_4awmSHY=\"/>"
      ],
      "text/plain": [
       "<IPython.core.display.Image object>"
      ]
     },
     "metadata": {},
     "output_type": "display_data"
    },
    {
     "data": {
      "text/html": [
       "<img src=\"https://media.istockphoto.com/photos/sporty-woman-outdoors-picture-id541986736?k=6&m=541986736&s=612x612&w=0&h=-0xtE5UcXIpJUuP-nxu-g6zbg-2_FuG7B6yJ5u07X-k=\"/>"
      ],
      "text/plain": [
       "<IPython.core.display.Image object>"
      ]
     },
     "metadata": {},
     "output_type": "display_data"
    },
    {
     "data": {
      "text/html": [
       "<img src=\"https://media.istockphoto.com/photos/young-woman-practicing-parkour-in-the-city-of-barcelona-picture-id485761932?k=6&m=485761932&s=612x612&w=0&h=kNWXiW7WqiPWh6oaWhvVwYwu5F4GL82uP1YzsFMgabQ=\"/>"
      ],
      "text/plain": [
       "<IPython.core.display.Image object>"
      ]
     },
     "metadata": {},
     "output_type": "display_data"
    },
    {
     "data": {
      "text/html": [
       "<img src=\"https://media.istockphoto.com/photos/parkour-in-the-city-picture-id485220614?k=6&m=485220614&s=612x612&w=0&h=rGJ5YUjuaLb3ZZ9onvIbsKGj8au7ciKiO0wUoTNd228=\"/>"
      ],
      "text/plain": [
       "<IPython.core.display.Image object>"
      ]
     },
     "metadata": {},
     "output_type": "display_data"
    }
   ],
   "source": [
    "# 檢查看看是否真的是照片\n",
    "# 是我們要的內容\n",
    "# (這段比較複雜 複製貼上就好)\n",
    "from IPython.display import display, Image\n",
    "for i in range(32,37):\n",
    "    display(Image(url=img_list[i].get('src'),retina=True))"
   ]
  },
  {
   "cell_type": "code",
   "execution_count": 19,
   "metadata": {},
   "outputs": [],
   "source": [
    "# 結合前面抓取圖片的方法\n",
    "# 把全部存到電腦\n",
    "for i in range(0,len(img_list)):\n",
    "    # 只使用合法的圖片網址\n",
    "    img_url = img_list[i].get('src')\n",
    "    \n",
    "    if img_url and 'http' in img_url:\n",
    "        res = requests.get(img_url)\n",
    "        \n",
    "        file_name = f'pic/pic{i:02}.jpg'\n",
    "        jpg = open(file_name,'wb')\n",
    "        jpg.write(res.content)\n",
    "        jpg.close"
   ]
  }
 ],
 "metadata": {
  "kernelspec": {
   "display_name": "Python 3",
   "language": "python",
   "name": "python3"
  },
  "language_info": {
   "codemirror_mode": {
    "name": "ipython",
    "version": 3
   },
   "file_extension": ".py",
   "mimetype": "text/x-python",
   "name": "python",
   "nbconvert_exporter": "python",
   "pygments_lexer": "ipython3",
   "version": "3.6.2"
  }
 },
 "nbformat": 4,
 "nbformat_minor": 2
}
