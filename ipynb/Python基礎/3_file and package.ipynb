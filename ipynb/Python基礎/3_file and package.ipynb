{
 "cells": [
  {
   "cell_type": "markdown",
   "metadata": {},
   "source": [
    "# Python基礎－檔案存取、套件"
   ]
  },
  {
   "cell_type": "markdown",
   "metadata": {},
   "source": [
    "## 目錄\n",
    "- [File存取](#File)\n",
    "- [常用模組](#Module)\n",
    "    - [pprint](#pprint)\n",
    "    - [time](#time)\n",
    "    - [os](#os)\n",
    "    - [json](#json)\n",
    "    - [csv](#csv)"
   ]
  },
  {
   "cell_type": "markdown",
   "metadata": {
    "collapsed": true
   },
   "source": [
    "## File"
   ]
  },
  {
   "cell_type": "code",
   "execution_count": 1,
   "metadata": {
    "collapsed": true
   },
   "outputs": [],
   "source": [
    "# 用 open 來開啟一個檔案\n",
    "# 之後 txt 會維持開啟檔案的狀態\n",
    "txt = open(\"test.txt\")"
   ]
  },
  {
   "cell_type": "code",
   "execution_count": 2,
   "metadata": {},
   "outputs": [
    {
     "name": "stdout",
     "output_type": "stream",
     "text": [
      "new content\n",
      "more sentence\n",
      "and text\n",
      "\n"
     ]
    }
   ],
   "source": [
    "# 可以用 .read() 來讀取所有內容\n",
    "txt = open(\"test.txt\")\n",
    "string = txt.read()\n",
    "print(string)\n",
    "txt.close()"
   ]
  },
  {
   "cell_type": "code",
   "execution_count": 3,
   "metadata": {},
   "outputs": [
    {
     "name": "stdout",
     "output_type": "stream",
     "text": [
      "new content\n",
      "more sentence\n",
      "and text\n"
     ]
    }
   ],
   "source": [
    "# 或是一行一行的讀取\n",
    "txt = open(\"test.txt\")\n",
    "out = \"\"\n",
    "for line in txt:\n",
    "    print(line[:-1]) # 擷取到 -1 位置是為了把換行去掉\n",
    "txt.close()"
   ]
  },
  {
   "cell_type": "code",
   "execution_count": 24,
   "metadata": {},
   "outputs": [
    {
     "ename": "UnsupportedOperation",
     "evalue": "not writable",
     "output_type": "error",
     "traceback": [
      "\u001b[0;31m---------------------------------------------------------------------------\u001b[0m",
      "\u001b[0;31mUnsupportedOperation\u001b[0m                      Traceback (most recent call last)",
      "\u001b[0;32m<ipython-input-24-003adba43f4b>\u001b[0m in \u001b[0;36m<module>\u001b[0;34m()\u001b[0m\n\u001b[1;32m      2\u001b[0m \u001b[0;31m# 錯誤\u001b[0m\u001b[0;34m\u001b[0m\u001b[0;34m\u001b[0m\u001b[0m\n\u001b[1;32m      3\u001b[0m \u001b[0mtxt\u001b[0m \u001b[0;34m=\u001b[0m \u001b[0mopen\u001b[0m\u001b[0;34m(\u001b[0m\u001b[0;34m\"test.txt\"\u001b[0m\u001b[0;34m)\u001b[0m\u001b[0;34m\u001b[0m\u001b[0m\n\u001b[0;32m----> 4\u001b[0;31m \u001b[0mtxt\u001b[0m\u001b[0;34m.\u001b[0m\u001b[0mwrite\u001b[0m\u001b[0;34m(\u001b[0m\u001b[0;34m'new content'\u001b[0m\u001b[0;34m)\u001b[0m\u001b[0;34m\u001b[0m\u001b[0m\n\u001b[0m\u001b[1;32m      5\u001b[0m \u001b[0mtxt\u001b[0m\u001b[0;34m.\u001b[0m\u001b[0mclose\u001b[0m\u001b[0;34m(\u001b[0m\u001b[0;34m)\u001b[0m\u001b[0;34m\u001b[0m\u001b[0m\n",
      "\u001b[0;31mUnsupportedOperation\u001b[0m: not writable"
     ]
    }
   ],
   "source": [
    "# 那要怎麼編輯或是新增內容呢\n",
    "# 錯誤\n",
    "# txt = open(\"test.txt\")\n",
    "# txt.write('new content')\n",
    "# txt.close()"
   ]
  },
  {
   "cell_type": "code",
   "execution_count": 5,
   "metadata": {
    "collapsed": true
   },
   "outputs": [],
   "source": [
    "# 預設的 mode 參數是「r」 只支援讀取\n",
    "# 可以使用「w」來寫入 「a」來新增\n",
    "# 然後使用 .write() 來寫入\n",
    "txt = open('test.txt',mode=\"w\")\n",
    "txt.write('new content\\n')\n",
    "txt.close()"
   ]
  },
  {
   "cell_type": "code",
   "execution_count": 6,
   "metadata": {
    "collapsed": true
   },
   "outputs": [],
   "source": [
    "# 「a」 用來新增在後面\n",
    "txt = open(\"test.txt\",mode=\"a\")\n",
    "txt.write('more sentence\\nand text\\n')\n",
    "txt.close()"
   ]
  },
  {
   "cell_type": "markdown",
   "metadata": {},
   "source": [
    "## 常用模組"
   ]
  },
  {
   "cell_type": "markdown",
   "metadata": {},
   "source": [
    "### time"
   ]
  },
  {
   "cell_type": "code",
   "execution_count": 14,
   "metadata": {
    "collapsed": true
   },
   "outputs": [],
   "source": [
    "import time"
   ]
  },
  {
   "cell_type": "code",
   "execution_count": 15,
   "metadata": {},
   "outputs": [
    {
     "data": {
      "text/plain": [
       "1509295256.94198"
      ]
     },
     "execution_count": 15,
     "metadata": {},
     "output_type": "execute_result"
    }
   ],
   "source": [
    "# 會回傳現在的「timestamp」\n",
    "# 代表從 1970 年 1 月 1 日到現在的「秒數」\n",
    "time.time()"
   ]
  },
  {
   "cell_type": "code",
   "execution_count": 16,
   "metadata": {},
   "outputs": [
    {
     "data": {
      "text/plain": [
       "'Mon Oct 30 00:40:56 2017'"
      ]
     },
     "execution_count": 16,
     "metadata": {},
     "output_type": "execute_result"
    }
   ],
   "source": [
    "# 顯示可以閱讀的時間字串\n",
    "time.asctime()"
   ]
  },
  {
   "cell_type": "code",
   "execution_count": 26,
   "metadata": {},
   "outputs": [
    {
     "name": "stdout",
     "output_type": "stream",
     "text": [
      "'2017-10-28 06:21:16'\n"
     ]
    }
   ],
   "source": [
    "# 也可以使用特定關鍵字 調整格式\n",
    "time.strftime(\"%Y-%m-%d %H:%M:%S\")"
   ]
  },
  {
   "cell_type": "code",
   "execution_count": 18,
   "metadata": {},
   "outputs": [
    {
     "name": "stdout",
     "output_type": "stream",
     "text": [
      "end\n"
     ]
    }
   ],
   "source": [
    "# 可以讓程式停下來3秒\n",
    "time.sleep(3)\n",
    "print('end')"
   ]
  },
  {
   "cell_type": "markdown",
   "metadata": {},
   "source": [
    "### os"
   ]
  },
  {
   "cell_type": "code",
   "execution_count": 19,
   "metadata": {
    "collapsed": true
   },
   "outputs": [],
   "source": [
    "import os"
   ]
  },
  {
   "cell_type": "code",
   "execution_count": 20,
   "metadata": {},
   "outputs": [
    {
     "data": {
      "text/plain": [
       "'/Users/SmallDragon/Desktop/code/python/jupyter/Python Crawler/Python基礎'"
      ]
     },
     "execution_count": 20,
     "metadata": {},
     "output_type": "execute_result"
    }
   ],
   "source": [
    "# 獲得現在位置的路徑\n",
    "os.getcwd()"
   ]
  },
  {
   "cell_type": "code",
   "execution_count": 27,
   "metadata": {},
   "outputs": [
    {
     "data": {
      "text/plain": [
       "['.DS_Store',\n",
       " '.ipynb_checkpoints',\n",
       " '10_25_note.ipynb',\n",
       " '1_Variable and Calculate.ipynb',\n",
       " '2_Logic and Loop.ipynb',\n",
       " '3_file and package.ipynb',\n",
       " 'test.csv',\n",
       " 'test.txt']"
      ]
     },
     "execution_count": 27,
     "metadata": {},
     "output_type": "execute_result"
    }
   ],
   "source": [
    "# 列出所在資料夾內的所有檔案\n",
    "os.listdir()"
   ]
  },
  {
   "cell_type": "code",
   "execution_count": 28,
   "metadata": {},
   "outputs": [
    {
     "data": {
      "text/plain": [
       "['.DS_Store',\n",
       " '.ipynb_checkpoints',\n",
       " 'Crawler基礎',\n",
       " 'Crawler進階',\n",
       " 'PythonCrawler',\n",
       " 'Python基礎']"
      ]
     },
     "execution_count": 28,
     "metadata": {},
     "output_type": "execute_result"
    }
   ],
   "source": [
    "# 也可以選擇路徑\n",
    "os.listdir('../')"
   ]
  },
  {
   "cell_type": "code",
   "execution_count": 29,
   "metadata": {
    "collapsed": true
   },
   "outputs": [],
   "source": [
    "# 可以使用 makedirs 來新增資料夾\n",
    "os.makedirs('new_folder')"
   ]
  },
  {
   "cell_type": "code",
   "execution_count": 30,
   "metadata": {},
   "outputs": [
    {
     "data": {
      "text/plain": [
       "['.DS_Store',\n",
       " '.ipynb_checkpoints',\n",
       " '10_25_note.ipynb',\n",
       " '1_Variable and Calculate.ipynb',\n",
       " '2_Logic and Loop.ipynb',\n",
       " '3_file and package.ipynb',\n",
       " 'new_folder',\n",
       " 'test.csv',\n",
       " 'test.txt']"
      ]
     },
     "execution_count": 30,
     "metadata": {},
     "output_type": "execute_result"
    }
   ],
   "source": [
    "os.listdir()"
   ]
  },
  {
   "cell_type": "markdown",
   "metadata": {
    "collapsed": true
   },
   "source": [
    "### json"
   ]
  },
  {
   "cell_type": "code",
   "execution_count": 31,
   "metadata": {
    "collapsed": true
   },
   "outputs": [],
   "source": [
    "import json"
   ]
  },
  {
   "cell_type": "code",
   "execution_count": 56,
   "metadata": {},
   "outputs": [
    {
     "name": "stdout",
     "output_type": "stream",
     "text": [
      "{'餐點名稱': '丹麥豬排堡', '價格': '40', '材料': ['丹麥', '生菜', '豬排', '番茄'], '作法': ['拿出所有材料', '該煮熟的煮熟', '加在一起', '完成!']}\n"
     ]
    }
   ],
   "source": [
    "a = {'餐點名稱':'丹麥豬排堡','價格':'40','材料':['丹麥','生菜','豬排','番茄'],'作法':['拿出所有材料','該煮熟的煮熟','加在一起','完成!']}\n",
    "print(a)"
   ]
  },
  {
   "cell_type": "code",
   "execution_count": 32,
   "metadata": {},
   "outputs": [
    {
     "data": {
      "text/plain": [
       "'{\"餐點名稱\": \"丹麥豬排堡\", \"價格\": \"40\", \"材料\": [\"丹麥\", \"生菜\", \"豬排\", \"番茄\"], \"作法\": [\"拿出所有材料\", \"該煮熟的煮熟\", \"加在一起\", \"完成!\"]}'"
      ]
     },
     "execution_count": 32,
     "metadata": {},
     "output_type": "execute_result"
    }
   ],
   "source": [
    "# 使用 dumps 可以把 python 物件轉換成 JSON 字串\n",
    "# 大家可以觀察有什麼差別\n",
    "temp = json.dumps(a,ensure_ascii=False)\n",
    "temp"
   ]
  },
  {
   "cell_type": "code",
   "execution_count": 33,
   "metadata": {},
   "outputs": [
    {
     "data": {
      "text/plain": [
       "str"
      ]
     },
     "execution_count": 33,
     "metadata": {},
     "output_type": "execute_result"
    }
   ],
   "source": [
    "# 確實變成了字串\n",
    "type(temp)"
   ]
  },
  {
   "cell_type": "code",
   "execution_count": 50,
   "metadata": {
    "collapsed": true
   },
   "outputs": [],
   "source": [
    "# 我編一段新的 JSON 字串\n",
    "temp = '''{\n",
    "    \"科目\":\"資料結構\",\n",
    "    \"考試次數\":3,\n",
    "    \"助教\":[\"小明\",\"小王\",\"小美\"],\n",
    "    \"上課日期\":[\"10/23\",\"10/30\",\"11/7\"]\n",
    "    \n",
    "}'''"
   ]
  },
  {
   "cell_type": "code",
   "execution_count": 52,
   "metadata": {
    "collapsed": true
   },
   "outputs": [],
   "source": [
    "# 使用 loads 可以把 JSON 字串 轉成 python 物件\n",
    "a = json.loads(temp)"
   ]
  },
  {
   "cell_type": "code",
   "execution_count": 53,
   "metadata": {},
   "outputs": [
    {
     "data": {
      "text/plain": [
       "{'上課日期': ['10/23', '10/30', '11/7'],\n",
       " '助教': ['小明', '小王', '小美'],\n",
       " '科目': '資料結構',\n",
       " '考試次數': 3}"
      ]
     },
     "execution_count": 53,
     "metadata": {},
     "output_type": "execute_result"
    }
   ],
   "source": [
    "a"
   ]
  },
  {
   "cell_type": "code",
   "execution_count": 54,
   "metadata": {},
   "outputs": [
    {
     "data": {
      "text/plain": [
       "['小明', '小王', '小美']"
      ]
     },
     "execution_count": 54,
     "metadata": {},
     "output_type": "execute_result"
    }
   ],
   "source": [
    "a['助教']"
   ]
  },
  {
   "cell_type": "code",
   "execution_count": 37,
   "metadata": {},
   "outputs": [
    {
     "data": {
      "text/plain": [
       "dict"
      ]
     },
     "execution_count": 37,
     "metadata": {},
     "output_type": "execute_result"
    }
   ],
   "source": [
    "# 確實變成 python 物件\n",
    "type(a)"
   ]
  },
  {
   "cell_type": "markdown",
   "metadata": {
    "collapsed": true
   },
   "source": [
    "### csv"
   ]
  },
  {
   "cell_type": "code",
   "execution_count": 38,
   "metadata": {
    "collapsed": true
   },
   "outputs": [],
   "source": [
    "import csv"
   ]
  },
  {
   "cell_type": "code",
   "execution_count": 70,
   "metadata": {
    "collapsed": true
   },
   "outputs": [],
   "source": [
    "head = ['a','b','c']\n",
    "all_list = [\n",
    "    {\n",
    "        'a':'apple',\n",
    "        'b':'banana',\n",
    "        'c':3.1415\n",
    "    },{\n",
    "        'a':'auto',\n",
    "        'b':11,\n",
    "        'c':'cat'\n",
    "    },{\n",
    "        'a':'advise',\n",
    "        'b':'ball',\n",
    "        'c':'cancel'\n",
    "    }\n",
    "]"
   ]
  },
  {
   "cell_type": "code",
   "execution_count": 76,
   "metadata": {
    "collapsed": true
   },
   "outputs": [],
   "source": [
    "# 開啟 csv 檔案\n",
    "# 和 header 一起輸入到 csv 的 DictWriter\n",
    "csv_file = open('test.csv','w')\n",
    "csv_writer = csv.DictWriter(csv_file,head)"
   ]
  },
  {
   "cell_type": "code",
   "execution_count": 77,
   "metadata": {
    "collapsed": true
   },
   "outputs": [],
   "source": [
    "# 輸入 head 到第一行\n",
    "csv_writer.writeheader()"
   ]
  },
  {
   "cell_type": "code",
   "execution_count": 78,
   "metadata": {},
   "outputs": [
    {
     "data": {
      "text/plain": [
       "22"
      ]
     },
     "execution_count": 78,
     "metadata": {},
     "output_type": "execute_result"
    }
   ],
   "source": [
    "# 用 dict 的方式 把每一行輸入進去\n",
    "# 我先隨便塞一行進去\n",
    "csv_writer.writerow({'a':'ahead','b':'bone','c':'calculate'})"
   ]
  },
  {
   "cell_type": "code",
   "execution_count": 79,
   "metadata": {},
   "outputs": [],
   "source": [
    "# 配合for迴圈 把all_list塞進去\n",
    "for each in all_list:\n",
    "    csv_writer.writerow(each)"
   ]
  },
  {
   "cell_type": "code",
   "execution_count": 80,
   "metadata": {
    "collapsed": true
   },
   "outputs": [],
   "source": [
    "csv_file.close()"
   ]
  }
 ],
 "metadata": {
  "kernelspec": {
   "display_name": "Python 3",
   "language": "python",
   "name": "python3"
  },
  "language_info": {
   "codemirror_mode": {
    "name": "ipython",
    "version": 3
   },
   "file_extension": ".py",
   "mimetype": "text/x-python",
   "name": "python",
   "nbconvert_exporter": "python",
   "pygments_lexer": "ipython3",
   "version": "3.6.2"
  }
 },
 "nbformat": 4,
 "nbformat_minor": 2
}
