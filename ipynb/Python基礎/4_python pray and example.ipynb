{
 "cells": [
  {
   "cell_type": "markdown",
   "metadata": {
    "collapsed": true
   },
   "source": [
    "# Python基礎－Practice and example"
   ]
  },
  {
   "cell_type": "code",
   "execution_count": null,
   "metadata": {
    "collapsed": true
   },
   "outputs": [],
   "source": [
    "def hi(name):\n",
    "    print(f\"HI! {name}\")"
   ]
  },
  {
   "cell_type": "code",
   "execution_count": null,
   "metadata": {
    "collapsed": true
   },
   "outputs": [],
   "source": [
    "count = 1\n",
    "while count <= 10:\n",
    "    count += 1"
   ]
  },
  {
   "cell_type": "code",
   "execution_count": 9,
   "metadata": {},
   "outputs": [
    {
     "name": "stdout",
     "output_type": "stream",
     "text": [
      "1 x 1 == 1\n",
      "1 x 2 == 2\n",
      "1 x 3 == 3\n",
      "1 x 4 == 4\n",
      "1 x 5 == 5\n",
      "1 x 6 == 6\n",
      "1 x 7 == 7\n",
      "1 x 8 == 8\n",
      "1 x 9 == 9\n",
      "\n",
      "2 x 1 == 2\n",
      "2 x 2 == 4\n",
      "2 x 3 == 6\n",
      "2 x 4 == 8\n",
      "2 x 5 == 10\n",
      "2 x 6 == 12\n",
      "2 x 7 == 14\n",
      "2 x 8 == 16\n",
      "2 x 9 == 18\n",
      "\n",
      "3 x 1 == 3\n",
      "3 x 2 == 6\n",
      "3 x 3 == 9\n",
      "3 x 4 == 12\n",
      "3 x 5 == 15\n",
      "3 x 6 == 18\n",
      "3 x 7 == 21\n",
      "3 x 8 == 24\n",
      "3 x 9 == 27\n",
      "\n",
      "4 x 1 == 4\n",
      "4 x 2 == 8\n",
      "4 x 3 == 12\n",
      "4 x 4 == 16\n",
      "4 x 5 == 20\n",
      "4 x 6 == 24\n",
      "4 x 7 == 28\n",
      "4 x 8 == 32\n",
      "4 x 9 == 36\n",
      "\n",
      "5 x 1 == 5\n",
      "5 x 2 == 10\n",
      "5 x 3 == 15\n",
      "5 x 4 == 20\n",
      "5 x 5 == 25\n",
      "5 x 6 == 30\n",
      "5 x 7 == 35\n",
      "5 x 8 == 40\n",
      "5 x 9 == 45\n",
      "\n",
      "6 x 1 == 6\n",
      "6 x 2 == 12\n",
      "6 x 3 == 18\n",
      "6 x 4 == 24\n",
      "6 x 5 == 30\n",
      "6 x 6 == 36\n",
      "6 x 7 == 42\n",
      "6 x 8 == 48\n",
      "6 x 9 == 54\n",
      "\n",
      "7 x 1 == 7\n",
      "7 x 2 == 14\n",
      "7 x 3 == 21\n",
      "7 x 4 == 28\n",
      "7 x 5 == 35\n",
      "7 x 6 == 42\n",
      "7 x 7 == 49\n",
      "7 x 8 == 56\n",
      "7 x 9 == 63\n",
      "\n",
      "8 x 1 == 8\n",
      "8 x 2 == 16\n",
      "8 x 3 == 24\n",
      "8 x 4 == 32\n",
      "8 x 5 == 40\n",
      "8 x 6 == 48\n",
      "8 x 7 == 56\n",
      "8 x 8 == 64\n",
      "8 x 9 == 72\n",
      "\n",
      "9 x 1 == 9\n",
      "9 x 2 == 18\n",
      "9 x 3 == 27\n",
      "9 x 4 == 36\n",
      "9 x 5 == 45\n",
      "9 x 6 == 54\n",
      "9 x 7 == 63\n",
      "9 x 8 == 72\n",
      "9 x 9 == 81\n",
      "\n"
     ]
    }
   ],
   "source": [
    "# 九九乘法表\n",
    "for i in range(1,10):\n",
    "    for j in range(1,10):\n",
    "        temp = i * j\n",
    "        print(f\"{i} x {j} == {temp}\")\n",
    "    print()"
   ]
  },
  {
   "cell_type": "code",
   "execution_count": 10,
   "metadata": {
    "collapsed": true
   },
   "outputs": [],
   "source": [
    "n_list = [6,3,10,3,10,2,13,20,12,15]"
   ]
  },
  {
   "cell_type": "code",
   "execution_count": 12,
   "metadata": {},
   "outputs": [],
   "source": [
    "n_list.sort()"
   ]
  },
  {
   "cell_type": "code",
   "execution_count": 13,
   "metadata": {},
   "outputs": [
    {
     "data": {
      "text/plain": [
       "[2, 3, 3, 6, 10, 10, 12, 13, 15, 20]"
      ]
     },
     "execution_count": 13,
     "metadata": {},
     "output_type": "execute_result"
    }
   ],
   "source": [
    "n_list"
   ]
  },
  {
   "cell_type": "code",
   "execution_count": null,
   "metadata": {
    "collapsed": true
   },
   "outputs": [],
   "source": []
  },
  {
   "cell_type": "code",
   "execution_count": 8,
   "metadata": {
    "collapsed": true
   },
   "outputs": [],
   "source": [
    "# 計算最大最小值、總和、平均和中位數\n",
    "def count(n_list):\n",
    "    # 輸入、初始化\n",
    "    n_sum = 0\n",
    "    n_max = 0\n",
    "    n_min = 10000\n",
    "    n_len = len(n_list)\n",
    "\n",
    "    # 做運算\n",
    "    for n in n_list:\n",
    "        # 如果 n 比我們記錄的最大值還大\n",
    "        # 就把我們的最大值更新\n",
    "        if n > n_max:\n",
    "            n_max = n\n",
    "        #最小值也是\n",
    "        if n < n_min:\n",
    "            n_min = n\n",
    "            \n",
    "        n_sum += n\n",
    "    \n",
    "    # n_med\n",
    "    if n_len % 2 == 1:\n",
    "        n_med = n_list[n_len / 2]\n",
    "    else:\n",
    "        n_med = (n_list[int(n_len / 2) - 1] + n_list[int(n_len / 2)]) / 2\n",
    "    \n",
    "    # 平均 = 總和 / 長度\n",
    "    n_mean = n_sum / n_len\n",
    "    \n",
    "    # 輸出所有變數\n",
    "    print(f\"Sum: {n_sum}\")\n",
    "    print(f\"Max: {n_max}\")\n",
    "    print(f\"Min: {n_min}\")\n",
    "    print(f\"Mean: {n_mean}\")\n",
    "    print(f\"Median: {n_med}\")"
   ]
  },
  {
   "cell_type": "code",
   "execution_count": 9,
   "metadata": {},
   "outputs": [
    {
     "name": "stdout",
     "output_type": "stream",
     "text": [
      "Sum: 94\n",
      "Max: 20\n",
      "Min: 2\n",
      "Mean: 9.4\n",
      "Median: 6.0\n"
     ]
    }
   ],
   "source": [
    "count([6,3,10,3,10,2,13,20,12,15])"
   ]
  },
  {
   "cell_type": "code",
   "execution_count": 3,
   "metadata": {
    "collapsed": true
   },
   "outputs": [],
   "source": [
    "# 運用函式版\n",
    "from statistics import median\n",
    "def count2(n_list):\n",
    "    n_sum = sum(n_list)\n",
    "    n_max = max(n_list)\n",
    "    n_min = min(n_list)\n",
    "    n_mean = sum(n_list) / len(n_list)\n",
    "    n_med = median(n_list)\n",
    "    \n",
    "    print(f\"Sum: {n_sum}\")\n",
    "    print(f\"Max: {n_max}\")\n",
    "    print(f\"Min: {n_min}\")\n",
    "    print(f\"Mean: {n_mean}\")\n",
    "    print(f\"Median: {n_med}\")"
   ]
  },
  {
   "cell_type": "code",
   "execution_count": 7,
   "metadata": {},
   "outputs": [
    {
     "name": "stdout",
     "output_type": "stream",
     "text": [
      "Sum: 94\n",
      "Max: 20\n",
      "Min: 2\n",
      "Mean: 9.4\n",
      "Median: 10.0\n"
     ]
    }
   ],
   "source": [
    "count2([6,3,10,3,10,2,13,20,12,15])"
   ]
  },
  {
   "cell_type": "code",
   "execution_count": 15,
   "metadata": {
    "collapsed": true
   },
   "outputs": [],
   "source": [
    "# 判斷是否質數\n",
    "def prime(n):\n",
    "    # 從 2 開始列舉所有因數\n",
    "    for i in range(2,n - 1):\n",
    "        # 如果可以整除 就回傳 False\n",
    "        if n % i == 0:\n",
    "            return False\n",
    "    return True"
   ]
  },
  {
   "cell_type": "code",
   "execution_count": 17,
   "metadata": {},
   "outputs": [
    {
     "name": "stdout",
     "output_type": "stream",
     "text": [
      "2 3 5 7 11 13 17 19 23 29 31 37 41 43 47 53 59 61 67 71 73 79 83 89 97 "
     ]
    }
   ],
   "source": [
    "# 列出 100 以內的質數\n",
    "for i in range(2,101):\n",
    "    if prime(i) == True:\n",
    "        print(i,end=' ')"
   ]
  }
 ],
 "metadata": {
  "kernelspec": {
   "display_name": "Python 3",
   "language": "python",
   "name": "python3"
  },
  "language_info": {
   "codemirror_mode": {
    "name": "ipython",
    "version": 3
   },
   "file_extension": ".py",
   "mimetype": "text/x-python",
   "name": "python",
   "nbconvert_exporter": "python",
   "pygments_lexer": "ipython3",
   "version": "3.6.2"
  }
 },
 "nbformat": 4,
 "nbformat_minor": 2
}
